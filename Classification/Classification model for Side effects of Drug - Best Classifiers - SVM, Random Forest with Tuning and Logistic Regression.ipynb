{
 "cells": [
  {
   "cell_type": "code",
   "execution_count": 1,
   "metadata": {},
   "outputs": [],
   "source": [
    "# Internship TCS iON Side effects of a drug -ICTAK NORKA DSA Batch2 - Bindhu K George"
   ]
  },
  {
   "cell_type": "code",
   "execution_count": 2,
   "metadata": {},
   "outputs": [],
   "source": [
    "#Project Objective - To build a classification model that classifies the side effects of a particular drug by age, gender and race"
   ]
  },
  {
   "cell_type": "code",
   "execution_count": 3,
   "metadata": {},
   "outputs": [],
   "source": [
    "# Importing Libraries"
   ]
  },
  {
   "cell_type": "code",
   "execution_count": 312,
   "metadata": {},
   "outputs": [],
   "source": [
    "from faker import Faker\n",
    "import numpy as np\n",
    "import pandas as pd\n",
    "from random import choice, sample\n",
    "import matplotlib.pyplot as plt\n",
    "import seaborn as sns\n",
    "%matplotlib inline"
   ]
  },
  {
   "cell_type": "code",
   "execution_count": 313,
   "metadata": {},
   "outputs": [],
   "source": [
    "# Creating Dataset using Faker - Dataset with columns Name, Age, Gender, Race and side effects of 400,000 patients"
   ]
  },
  {
   "cell_type": "code",
   "execution_count": 314,
   "metadata": {},
   "outputs": [],
   "source": [
    "#data1 = Faker()"
   ]
  },
  {
   "cell_type": "code",
   "execution_count": 315,
   "metadata": {},
   "outputs": [],
   "source": [
    "#Creating Name details"
   ]
  },
  {
   "cell_type": "code",
   "execution_count": 316,
   "metadata": {},
   "outputs": [],
   "source": [
    "#def create_names(n):\n",
    "    #name = []\n",
    "    #for _ in range(0, n):\n",
    "        #name.append(data1.name())\n",
    "    #return name"
   ]
  },
  {
   "cell_type": "code",
   "execution_count": 317,
   "metadata": {},
   "outputs": [],
   "source": [
    "#name = create_names(400000)"
   ]
  },
  {
   "cell_type": "code",
   "execution_count": 318,
   "metadata": {},
   "outputs": [],
   "source": [
    "# Creating Patient Id"
   ]
  },
  {
   "cell_type": "code",
   "execution_count": 319,
   "metadata": {},
   "outputs": [],
   "source": [
    "#patient_id = np.random.randint(1, 400000, size = 400000, dtype = 'int')"
   ]
  },
  {
   "cell_type": "code",
   "execution_count": 320,
   "metadata": {},
   "outputs": [],
   "source": [
    "#data2 = pd.DataFrame(list(zip(patient_id,name,)),\n",
    "                   #columns = [ 'patient_id','name'])"
   ]
  },
  {
   "cell_type": "code",
   "execution_count": 321,
   "metadata": {},
   "outputs": [],
   "source": [
    "#data2"
   ]
  },
  {
   "cell_type": "code",
   "execution_count": 322,
   "metadata": {},
   "outputs": [],
   "source": [
    "# Creating Age, Gender,Race and Side Effects with Numpy "
   ]
  },
  {
   "cell_type": "code",
   "execution_count": 323,
   "metadata": {},
   "outputs": [],
   "source": [
    "#import numpy as np\n",
    "\n",
    "#def weighted_cartesian_choice(*iterables):\n",
    "    \n",
    "   # An arbitrary number of tuple or lists,each consisting of population and weights.weighted_cartesian_choice returns a list \n",
    "    #with a chocie from each population\n",
    "    \n",
    "    #res = []\n",
    "    #for population, weights in iterables:\n",
    "        # normalize weight:\n",
    "        #weights = np.array(weights) / sum(weights)\n",
    "        #lst = np.random.choice(population, p=weights)\n",
    "        #res.append(lst)\n",
    "    #return res\n",
    "\n",
    "#gender = (['male','female'], \n",
    "          #[0.3, 0.7])\n",
    "\n",
    "#age = (['0-10','10-20','20-30','30-40','40-50','50-60','60-70','70-80','80-90','90-100'], \n",
    "        #[.08,.05,.07,.18,.05,.16,.06,.19,.07,.09])\n",
    "#race = (['White','Hispanic', 'Black','Asian'], \n",
    "        #[.32,.28,.22,.18])\n",
    "#side_effects = (['No Side Effects', 'Mild Side Effects', 'Moderate Side Effects', 'Severe Side Effects', 'Extremely Severe Side Effects'], \n",
    "                #[.12,.20,.28,.22,.18])\n",
    "\n",
    "#list=[]\n",
    "#for i in range(400000):\n",
    "    #res = weighted_cartesian_choice(gender,\n",
    "                                    #age,\n",
    "                                    #race,\n",
    "                                    #side_effects)\n",
    "    #list.append(res)\n",
    "  "
   ]
  },
  {
   "cell_type": "code",
   "execution_count": 324,
   "metadata": {},
   "outputs": [],
   "source": [
    "#newdata=pd.DataFrame(list, columns = ['gender','age','race','side_effects'])"
   ]
  },
  {
   "cell_type": "code",
   "execution_count": 325,
   "metadata": {},
   "outputs": [],
   "source": [
    "#newdata.head(400000)"
   ]
  },
  {
   "cell_type": "code",
   "execution_count": 326,
   "metadata": {},
   "outputs": [],
   "source": [
    "#data = pd.concat([data2, newdata], axis=1).reindex(newdata.index)"
   ]
  },
  {
   "cell_type": "code",
   "execution_count": 327,
   "metadata": {},
   "outputs": [],
   "source": [
    "#data"
   ]
  },
  {
   "cell_type": "code",
   "execution_count": 328,
   "metadata": {},
   "outputs": [],
   "source": [
    "#sample_dataset = data.to_csv(\"dataset.csv\",index=False)"
   ]
  },
  {
   "cell_type": "code",
   "execution_count": 329,
   "metadata": {},
   "outputs": [],
   "source": [
    "# dataset is created each time faker is run so commented"
   ]
  },
  {
   "cell_type": "code",
   "execution_count": 330,
   "metadata": {},
   "outputs": [],
   "source": [
    "import warnings\n",
    "warnings.filterwarnings('ignore')"
   ]
  },
  {
   "cell_type": "code",
   "execution_count": 331,
   "metadata": {},
   "outputs": [],
   "source": [
    "# Reading Dataset"
   ]
  },
  {
   "cell_type": "code",
   "execution_count": 332,
   "metadata": {},
   "outputs": [],
   "source": [
    "data = pd.read_csv('dataset.csv')"
   ]
  },
  {
   "cell_type": "code",
   "execution_count": 333,
   "metadata": {},
   "outputs": [],
   "source": [
    "# Features"
   ]
  },
  {
   "cell_type": "code",
   "execution_count": 334,
   "metadata": {},
   "outputs": [
    {
     "data": {
      "text/html": [
       "<div>\n",
       "<style scoped>\n",
       "    .dataframe tbody tr th:only-of-type {\n",
       "        vertical-align: middle;\n",
       "    }\n",
       "\n",
       "    .dataframe tbody tr th {\n",
       "        vertical-align: top;\n",
       "    }\n",
       "\n",
       "    .dataframe thead th {\n",
       "        text-align: right;\n",
       "    }\n",
       "</style>\n",
       "<table border=\"1\" class=\"dataframe\">\n",
       "  <thead>\n",
       "    <tr style=\"text-align: right;\">\n",
       "      <th></th>\n",
       "      <th>patient_id</th>\n",
       "      <th>name</th>\n",
       "      <th>gender</th>\n",
       "      <th>age</th>\n",
       "      <th>race</th>\n",
       "      <th>side_effects</th>\n",
       "    </tr>\n",
       "  </thead>\n",
       "  <tbody>\n",
       "    <tr>\n",
       "      <th>0</th>\n",
       "      <td>145440</td>\n",
       "      <td>Monica Hunter</td>\n",
       "      <td>female</td>\n",
       "      <td>0-10</td>\n",
       "      <td>Hispanic</td>\n",
       "      <td>Moderate Side Effects</td>\n",
       "    </tr>\n",
       "    <tr>\n",
       "      <th>1</th>\n",
       "      <td>151914</td>\n",
       "      <td>Patrick Smith</td>\n",
       "      <td>male</td>\n",
       "      <td>70-80</td>\n",
       "      <td>White</td>\n",
       "      <td>Severe Side Effects</td>\n",
       "    </tr>\n",
       "    <tr>\n",
       "      <th>2</th>\n",
       "      <td>274937</td>\n",
       "      <td>Jason Gutierrez</td>\n",
       "      <td>female</td>\n",
       "      <td>80-90</td>\n",
       "      <td>Black</td>\n",
       "      <td>Extremely Severe Side Effects</td>\n",
       "    </tr>\n",
       "    <tr>\n",
       "      <th>3</th>\n",
       "      <td>167024</td>\n",
       "      <td>Donald Peters</td>\n",
       "      <td>female</td>\n",
       "      <td>80-90</td>\n",
       "      <td>White</td>\n",
       "      <td>Mild Side Effects</td>\n",
       "    </tr>\n",
       "    <tr>\n",
       "      <th>4</th>\n",
       "      <td>105621</td>\n",
       "      <td>Laura Baker</td>\n",
       "      <td>female</td>\n",
       "      <td>40-50</td>\n",
       "      <td>White</td>\n",
       "      <td>Extremely Severe Side Effects</td>\n",
       "    </tr>\n",
       "  </tbody>\n",
       "</table>\n",
       "</div>"
      ],
      "text/plain": [
       "   patient_id             name  gender    age      race  \\\n",
       "0      145440    Monica Hunter  female   0-10  Hispanic   \n",
       "1      151914    Patrick Smith    male  70-80     White   \n",
       "2      274937  Jason Gutierrez  female  80-90     Black   \n",
       "3      167024    Donald Peters  female  80-90     White   \n",
       "4      105621      Laura Baker  female  40-50     White   \n",
       "\n",
       "                    side_effects  \n",
       "0          Moderate Side Effects  \n",
       "1            Severe Side Effects  \n",
       "2  Extremely Severe Side Effects  \n",
       "3              Mild Side Effects  \n",
       "4  Extremely Severe Side Effects  "
      ]
     },
     "execution_count": 334,
     "metadata": {},
     "output_type": "execute_result"
    }
   ],
   "source": [
    "data.head()"
   ]
  },
  {
   "cell_type": "code",
   "execution_count": 335,
   "metadata": {},
   "outputs": [
    {
     "data": {
      "text/plain": [
       "(400000, 6)"
      ]
     },
     "execution_count": 335,
     "metadata": {},
     "output_type": "execute_result"
    }
   ],
   "source": [
    "data.shape"
   ]
  },
  {
   "cell_type": "code",
   "execution_count": 336,
   "metadata": {},
   "outputs": [
    {
     "name": "stdout",
     "output_type": "stream",
     "text": [
      "<class 'pandas.core.frame.DataFrame'>\n",
      "RangeIndex: 400000 entries, 0 to 399999\n",
      "Data columns (total 6 columns):\n",
      " #   Column        Non-Null Count   Dtype \n",
      "---  ------        --------------   ----- \n",
      " 0   patient_id    400000 non-null  int64 \n",
      " 1   name          400000 non-null  object\n",
      " 2   gender        400000 non-null  object\n",
      " 3   age           400000 non-null  object\n",
      " 4   race          400000 non-null  object\n",
      " 5   side_effects  400000 non-null  object\n",
      "dtypes: int64(1), object(5)\n",
      "memory usage: 18.3+ MB\n"
     ]
    }
   ],
   "source": [
    "data.info()"
   ]
  },
  {
   "cell_type": "code",
   "execution_count": 337,
   "metadata": {},
   "outputs": [
    {
     "data": {
      "text/plain": [
       "70-80     76149\n",
       "30-40     72047\n",
       "50-60     64469\n",
       "90-100    35981\n",
       "0-10      31738\n",
       "20-30     27893\n",
       "80-90     27860\n",
       "60-70     23868\n",
       "10-20     20011\n",
       "40-50     19984\n",
       "Name: age, dtype: int64"
      ]
     },
     "execution_count": 337,
     "metadata": {},
     "output_type": "execute_result"
    }
   ],
   "source": [
    "data['age'].value_counts()"
   ]
  },
  {
   "cell_type": "code",
   "execution_count": 338,
   "metadata": {},
   "outputs": [
    {
     "data": {
      "text/plain": [
       "female    280127\n",
       "male      119873\n",
       "Name: gender, dtype: int64"
      ]
     },
     "execution_count": 338,
     "metadata": {},
     "output_type": "execute_result"
    }
   ],
   "source": [
    "data['gender'].value_counts()"
   ]
  },
  {
   "cell_type": "code",
   "execution_count": 339,
   "metadata": {},
   "outputs": [
    {
     "data": {
      "text/plain": [
       "White       128188\n",
       "Hispanic    111776\n",
       "Black        87917\n",
       "Asian        72119\n",
       "Name: race, dtype: int64"
      ]
     },
     "execution_count": 339,
     "metadata": {},
     "output_type": "execute_result"
    }
   ],
   "source": [
    "data['race'].value_counts()"
   ]
  },
  {
   "cell_type": "code",
   "execution_count": 340,
   "metadata": {},
   "outputs": [
    {
     "data": {
      "text/plain": [
       "Moderate Side Effects            112052\n",
       "Severe Side Effects               88079\n",
       "Mild Side Effects                 79910\n",
       "Extremely Severe Side Effects     72077\n",
       "No Side Effects                   47882\n",
       "Name: side_effects, dtype: int64"
      ]
     },
     "execution_count": 340,
     "metadata": {},
     "output_type": "execute_result"
    }
   ],
   "source": [
    "data['side_effects'].value_counts()"
   ]
  },
  {
   "cell_type": "code",
   "execution_count": 341,
   "metadata": {},
   "outputs": [],
   "source": [
    "# Preprocessing"
   ]
  },
  {
   "cell_type": "code",
   "execution_count": 342,
   "metadata": {},
   "outputs": [
    {
     "data": {
      "text/plain": [
       "patient_id      0\n",
       "name            0\n",
       "gender          0\n",
       "age             0\n",
       "race            0\n",
       "side_effects    0\n",
       "dtype: int64"
      ]
     },
     "execution_count": 342,
     "metadata": {},
     "output_type": "execute_result"
    }
   ],
   "source": [
    "data.isna().sum()"
   ]
  },
  {
   "cell_type": "code",
   "execution_count": 343,
   "metadata": {},
   "outputs": [],
   "source": [
    "# There are no null values "
   ]
  },
  {
   "cell_type": "code",
   "execution_count": 344,
   "metadata": {},
   "outputs": [
    {
     "data": {
      "text/plain": [
       "patient_id       int64\n",
       "name            object\n",
       "gender          object\n",
       "age             object\n",
       "race            object\n",
       "side_effects    object\n",
       "dtype: object"
      ]
     },
     "execution_count": 344,
     "metadata": {},
     "output_type": "execute_result"
    }
   ],
   "source": [
    "data.dtypes"
   ]
  },
  {
   "cell_type": "code",
   "execution_count": 345,
   "metadata": {},
   "outputs": [],
   "source": [
    "def print_unique_col_values(data):\n",
    "    for column in data:\n",
    "        if data[column].dtypes=='object':\n",
    "            print (f'{column} : {data[column].unique()}')"
   ]
  },
  {
   "cell_type": "code",
   "execution_count": 346,
   "metadata": {},
   "outputs": [
    {
     "name": "stdout",
     "output_type": "stream",
     "text": [
      "name : ['Monica Hunter' 'Patrick Smith' 'Jason Gutierrez' ... 'Evan Robertson'\n",
      " 'Craig Grimes' 'Teresa Lawrence']\n",
      "gender : ['female' 'male']\n",
      "age : ['0-10' '70-80' '80-90' '40-50' '50-60' '20-30' '90-100' '60-70' '10-20'\n",
      " '30-40']\n",
      "race : ['Hispanic' 'White' 'Black' 'Asian']\n",
      "side_effects : ['Moderate Side Effects' 'Severe Side Effects'\n",
      " 'Extremely Severe Side Effects' 'Mild Side Effects' 'No Side Effects']\n"
     ]
    }
   ],
   "source": [
    "print_unique_col_values(data)"
   ]
  },
  {
   "cell_type": "code",
   "execution_count": 347,
   "metadata": {},
   "outputs": [],
   "source": [
    "# There are no unique values to be repalced, all except patient_id are categorical "
   ]
  },
  {
   "cell_type": "code",
   "execution_count": 348,
   "metadata": {},
   "outputs": [],
   "source": [
    "# The correlation between created features is low, so mapping is done for improving accuracy for age, gender,race and side effects"
   ]
  },
  {
   "cell_type": "code",
   "execution_count": 349,
   "metadata": {},
   "outputs": [],
   "source": [
    "data.loc[data['age'] == '0-10', 'age_score'] = '6'  \n",
    "data.loc[data['age'] == '10-20', 'age_score'] = '2' \n",
    "data.loc[data['age'] == '20-30', 'age_score'] = '5'  \n",
    "data.loc[data['age'] == '30-40', 'age_score'] = '9'  \n",
    "data.loc[data['age'] == '40-50', 'age_score'] = '1' \n",
    "data.loc[data['age'] == '50-60', 'age_score'] = '8'  \n",
    "data.loc[data['age'] == '60-70', 'age_score'] = '3'  \n",
    "data.loc[data['age'] == '70-80', 'age_score'] = '10' \n",
    "data.loc[data['age'] == '80-90', 'age_score'] = '4'  \n",
    "data.loc[data['age'] == '90-100', 'age_score'] = '7'  "
   ]
  },
  {
   "cell_type": "code",
   "execution_count": 350,
   "metadata": {},
   "outputs": [],
   "source": [
    "data.loc[data['side_effects'] == 'Moderate Side Effects', 'sideeffects_score'] = '5'  \n",
    "data.loc[data['side_effects'] == 'Severe Side Effects', 'sideeffects_score'] = '4' \n",
    "data.loc[data['side_effects'] == 'Mild Side Effects', 'sideeffects_score'] = '3'  \n",
    "data.loc[data['side_effects'] == 'Extremely Severe Side Effects', 'sideeffects_score'] = '2'  \n",
    "data.loc[data['side_effects'] == 'No Side Effects', 'sideeffects_score'] = '1' "
   ]
  },
  {
   "cell_type": "code",
   "execution_count": 351,
   "metadata": {},
   "outputs": [],
   "source": [
    "data.loc[data['race'] == 'White', 'race_score'] = '4'  \n",
    "data.loc[data['race'] == 'Hispanic', 'race_score'] = '3' \n",
    "data.loc[data['race'] == 'Black', 'race_score'] = '2'  \n",
    "data.loc[data['race'] == 'Asian', 'race_score'] = '1'  \n"
   ]
  },
  {
   "cell_type": "code",
   "execution_count": 352,
   "metadata": {},
   "outputs": [],
   "source": [
    "data.loc[data['gender'] == 'male', 'gender_score'] = '4'  \n",
    "data.loc[data['gender'] == 'female', 'gender_score'] = '6' \n"
   ]
  },
  {
   "cell_type": "code",
   "execution_count": 353,
   "metadata": {},
   "outputs": [],
   "source": [
    "data = data.astype({'age_score': 'int','sideeffects_score' : 'int','race_score': 'int','gender_score': 'int'})"
   ]
  },
  {
   "cell_type": "code",
   "execution_count": 354,
   "metadata": {},
   "outputs": [
    {
     "data": {
      "text/plain": [
       "patient_id            int64\n",
       "name                 object\n",
       "gender               object\n",
       "age                  object\n",
       "race                 object\n",
       "side_effects         object\n",
       "age_score             int32\n",
       "sideeffects_score     int32\n",
       "race_score            int32\n",
       "gender_score          int32\n",
       "dtype: object"
      ]
     },
     "execution_count": 354,
     "metadata": {},
     "output_type": "execute_result"
    }
   ],
   "source": [
    "data.dtypes"
   ]
  },
  {
   "cell_type": "code",
   "execution_count": 355,
   "metadata": {},
   "outputs": [],
   "source": [
    "data['score']=data['age_score']+data['sideeffects_score']+data['race_score']+data['gender_score']"
   ]
  },
  {
   "cell_type": "code",
   "execution_count": 356,
   "metadata": {},
   "outputs": [],
   "source": [
    "data['rated_score']=data['score']/2"
   ]
  },
  {
   "cell_type": "code",
   "execution_count": 357,
   "metadata": {},
   "outputs": [
    {
     "data": {
      "text/html": [
       "<div>\n",
       "<style scoped>\n",
       "    .dataframe tbody tr th:only-of-type {\n",
       "        vertical-align: middle;\n",
       "    }\n",
       "\n",
       "    .dataframe tbody tr th {\n",
       "        vertical-align: top;\n",
       "    }\n",
       "\n",
       "    .dataframe thead th {\n",
       "        text-align: right;\n",
       "    }\n",
       "</style>\n",
       "<table border=\"1\" class=\"dataframe\">\n",
       "  <thead>\n",
       "    <tr style=\"text-align: right;\">\n",
       "      <th></th>\n",
       "      <th>patient_id</th>\n",
       "      <th>name</th>\n",
       "      <th>gender</th>\n",
       "      <th>age</th>\n",
       "      <th>race</th>\n",
       "      <th>side_effects</th>\n",
       "      <th>age_score</th>\n",
       "      <th>sideeffects_score</th>\n",
       "      <th>race_score</th>\n",
       "      <th>gender_score</th>\n",
       "      <th>score</th>\n",
       "      <th>rated_score</th>\n",
       "    </tr>\n",
       "  </thead>\n",
       "  <tbody>\n",
       "    <tr>\n",
       "      <th>0</th>\n",
       "      <td>145440</td>\n",
       "      <td>Monica Hunter</td>\n",
       "      <td>female</td>\n",
       "      <td>0-10</td>\n",
       "      <td>Hispanic</td>\n",
       "      <td>Moderate Side Effects</td>\n",
       "      <td>6</td>\n",
       "      <td>5</td>\n",
       "      <td>3</td>\n",
       "      <td>6</td>\n",
       "      <td>20</td>\n",
       "      <td>10.0</td>\n",
       "    </tr>\n",
       "    <tr>\n",
       "      <th>1</th>\n",
       "      <td>151914</td>\n",
       "      <td>Patrick Smith</td>\n",
       "      <td>male</td>\n",
       "      <td>70-80</td>\n",
       "      <td>White</td>\n",
       "      <td>Severe Side Effects</td>\n",
       "      <td>10</td>\n",
       "      <td>4</td>\n",
       "      <td>4</td>\n",
       "      <td>4</td>\n",
       "      <td>22</td>\n",
       "      <td>11.0</td>\n",
       "    </tr>\n",
       "    <tr>\n",
       "      <th>2</th>\n",
       "      <td>274937</td>\n",
       "      <td>Jason Gutierrez</td>\n",
       "      <td>female</td>\n",
       "      <td>80-90</td>\n",
       "      <td>Black</td>\n",
       "      <td>Extremely Severe Side Effects</td>\n",
       "      <td>4</td>\n",
       "      <td>2</td>\n",
       "      <td>2</td>\n",
       "      <td>6</td>\n",
       "      <td>14</td>\n",
       "      <td>7.0</td>\n",
       "    </tr>\n",
       "    <tr>\n",
       "      <th>3</th>\n",
       "      <td>167024</td>\n",
       "      <td>Donald Peters</td>\n",
       "      <td>female</td>\n",
       "      <td>80-90</td>\n",
       "      <td>White</td>\n",
       "      <td>Mild Side Effects</td>\n",
       "      <td>4</td>\n",
       "      <td>3</td>\n",
       "      <td>4</td>\n",
       "      <td>6</td>\n",
       "      <td>17</td>\n",
       "      <td>8.5</td>\n",
       "    </tr>\n",
       "    <tr>\n",
       "      <th>4</th>\n",
       "      <td>105621</td>\n",
       "      <td>Laura Baker</td>\n",
       "      <td>female</td>\n",
       "      <td>40-50</td>\n",
       "      <td>White</td>\n",
       "      <td>Extremely Severe Side Effects</td>\n",
       "      <td>1</td>\n",
       "      <td>2</td>\n",
       "      <td>4</td>\n",
       "      <td>6</td>\n",
       "      <td>13</td>\n",
       "      <td>6.5</td>\n",
       "    </tr>\n",
       "    <tr>\n",
       "      <th>...</th>\n",
       "      <td>...</td>\n",
       "      <td>...</td>\n",
       "      <td>...</td>\n",
       "      <td>...</td>\n",
       "      <td>...</td>\n",
       "      <td>...</td>\n",
       "      <td>...</td>\n",
       "      <td>...</td>\n",
       "      <td>...</td>\n",
       "      <td>...</td>\n",
       "      <td>...</td>\n",
       "      <td>...</td>\n",
       "    </tr>\n",
       "    <tr>\n",
       "      <th>399995</th>\n",
       "      <td>72625</td>\n",
       "      <td>Frank Harris</td>\n",
       "      <td>female</td>\n",
       "      <td>30-40</td>\n",
       "      <td>Black</td>\n",
       "      <td>No Side Effects</td>\n",
       "      <td>9</td>\n",
       "      <td>1</td>\n",
       "      <td>2</td>\n",
       "      <td>6</td>\n",
       "      <td>18</td>\n",
       "      <td>9.0</td>\n",
       "    </tr>\n",
       "    <tr>\n",
       "      <th>399996</th>\n",
       "      <td>308257</td>\n",
       "      <td>Craig Grimes</td>\n",
       "      <td>female</td>\n",
       "      <td>50-60</td>\n",
       "      <td>Hispanic</td>\n",
       "      <td>Moderate Side Effects</td>\n",
       "      <td>8</td>\n",
       "      <td>5</td>\n",
       "      <td>3</td>\n",
       "      <td>6</td>\n",
       "      <td>22</td>\n",
       "      <td>11.0</td>\n",
       "    </tr>\n",
       "    <tr>\n",
       "      <th>399997</th>\n",
       "      <td>55716</td>\n",
       "      <td>Kenneth Guzman</td>\n",
       "      <td>female</td>\n",
       "      <td>0-10</td>\n",
       "      <td>Hispanic</td>\n",
       "      <td>No Side Effects</td>\n",
       "      <td>6</td>\n",
       "      <td>1</td>\n",
       "      <td>3</td>\n",
       "      <td>6</td>\n",
       "      <td>16</td>\n",
       "      <td>8.0</td>\n",
       "    </tr>\n",
       "    <tr>\n",
       "      <th>399998</th>\n",
       "      <td>91801</td>\n",
       "      <td>Linda Price</td>\n",
       "      <td>female</td>\n",
       "      <td>90-100</td>\n",
       "      <td>Asian</td>\n",
       "      <td>Extremely Severe Side Effects</td>\n",
       "      <td>7</td>\n",
       "      <td>2</td>\n",
       "      <td>1</td>\n",
       "      <td>6</td>\n",
       "      <td>16</td>\n",
       "      <td>8.0</td>\n",
       "    </tr>\n",
       "    <tr>\n",
       "      <th>399999</th>\n",
       "      <td>246518</td>\n",
       "      <td>Teresa Lawrence</td>\n",
       "      <td>female</td>\n",
       "      <td>60-70</td>\n",
       "      <td>Asian</td>\n",
       "      <td>Moderate Side Effects</td>\n",
       "      <td>3</td>\n",
       "      <td>5</td>\n",
       "      <td>1</td>\n",
       "      <td>6</td>\n",
       "      <td>15</td>\n",
       "      <td>7.5</td>\n",
       "    </tr>\n",
       "  </tbody>\n",
       "</table>\n",
       "<p>400000 rows × 12 columns</p>\n",
       "</div>"
      ],
      "text/plain": [
       "        patient_id             name  gender     age      race  \\\n",
       "0           145440    Monica Hunter  female    0-10  Hispanic   \n",
       "1           151914    Patrick Smith    male   70-80     White   \n",
       "2           274937  Jason Gutierrez  female   80-90     Black   \n",
       "3           167024    Donald Peters  female   80-90     White   \n",
       "4           105621      Laura Baker  female   40-50     White   \n",
       "...            ...              ...     ...     ...       ...   \n",
       "399995       72625     Frank Harris  female   30-40     Black   \n",
       "399996      308257     Craig Grimes  female   50-60  Hispanic   \n",
       "399997       55716   Kenneth Guzman  female    0-10  Hispanic   \n",
       "399998       91801      Linda Price  female  90-100     Asian   \n",
       "399999      246518  Teresa Lawrence  female   60-70     Asian   \n",
       "\n",
       "                         side_effects  age_score  sideeffects_score  \\\n",
       "0               Moderate Side Effects          6                  5   \n",
       "1                 Severe Side Effects         10                  4   \n",
       "2       Extremely Severe Side Effects          4                  2   \n",
       "3                   Mild Side Effects          4                  3   \n",
       "4       Extremely Severe Side Effects          1                  2   \n",
       "...                               ...        ...                ...   \n",
       "399995                No Side Effects          9                  1   \n",
       "399996          Moderate Side Effects          8                  5   \n",
       "399997                No Side Effects          6                  1   \n",
       "399998  Extremely Severe Side Effects          7                  2   \n",
       "399999          Moderate Side Effects          3                  5   \n",
       "\n",
       "        race_score  gender_score  score  rated_score  \n",
       "0                3             6     20         10.0  \n",
       "1                4             4     22         11.0  \n",
       "2                2             6     14          7.0  \n",
       "3                4             6     17          8.5  \n",
       "4                4             6     13          6.5  \n",
       "...            ...           ...    ...          ...  \n",
       "399995           2             6     18          9.0  \n",
       "399996           3             6     22         11.0  \n",
       "399997           3             6     16          8.0  \n",
       "399998           1             6     16          8.0  \n",
       "399999           1             6     15          7.5  \n",
       "\n",
       "[400000 rows x 12 columns]"
      ]
     },
     "execution_count": 357,
     "metadata": {},
     "output_type": "execute_result"
    }
   ],
   "source": [
    "data"
   ]
  },
  {
   "cell_type": "code",
   "execution_count": 358,
   "metadata": {},
   "outputs": [
    {
     "data": {
      "text/plain": [
       "patient_id             int64\n",
       "name                  object\n",
       "gender                object\n",
       "age                   object\n",
       "race                  object\n",
       "side_effects          object\n",
       "age_score              int32\n",
       "sideeffects_score      int32\n",
       "race_score             int32\n",
       "gender_score           int32\n",
       "score                  int32\n",
       "rated_score          float64\n",
       "dtype: object"
      ]
     },
     "execution_count": 358,
     "metadata": {},
     "output_type": "execute_result"
    }
   ],
   "source": [
    "data.dtypes"
   ]
  },
  {
   "cell_type": "code",
   "execution_count": 359,
   "metadata": {},
   "outputs": [],
   "source": [
    "# Encoding - Feature Encoding"
   ]
  },
  {
   "cell_type": "code",
   "execution_count": 360,
   "metadata": {},
   "outputs": [],
   "source": [
    "fe=data.groupby('race').size()/len(data)\n",
    "data.loc[:, 'race_fe']=data['race'].map(fe)"
   ]
  },
  {
   "cell_type": "code",
   "execution_count": 361,
   "metadata": {},
   "outputs": [],
   "source": [
    "fe=data.groupby('gender').size()/len(data)\n",
    "data.loc[:, 'gender_fe']=data['gender'].map(fe)"
   ]
  },
  {
   "cell_type": "code",
   "execution_count": 362,
   "metadata": {},
   "outputs": [],
   "source": [
    "fe=data.groupby('age').size()/len(data)\n",
    "data.loc[:, 'age_fe']=data['age'].map(fe)"
   ]
  },
  {
   "cell_type": "code",
   "execution_count": 363,
   "metadata": {},
   "outputs": [
    {
     "data": {
      "text/html": [
       "<div>\n",
       "<style scoped>\n",
       "    .dataframe tbody tr th:only-of-type {\n",
       "        vertical-align: middle;\n",
       "    }\n",
       "\n",
       "    .dataframe tbody tr th {\n",
       "        vertical-align: top;\n",
       "    }\n",
       "\n",
       "    .dataframe thead th {\n",
       "        text-align: right;\n",
       "    }\n",
       "</style>\n",
       "<table border=\"1\" class=\"dataframe\">\n",
       "  <thead>\n",
       "    <tr style=\"text-align: right;\">\n",
       "      <th></th>\n",
       "      <th>name</th>\n",
       "      <th>side_effects</th>\n",
       "      <th>age_score</th>\n",
       "      <th>sideeffects_score</th>\n",
       "      <th>race_score</th>\n",
       "      <th>gender_score</th>\n",
       "      <th>score</th>\n",
       "      <th>rated_score</th>\n",
       "      <th>race_fe</th>\n",
       "      <th>gender_fe</th>\n",
       "      <th>age_fe</th>\n",
       "    </tr>\n",
       "  </thead>\n",
       "  <tbody>\n",
       "    <tr>\n",
       "      <th>0</th>\n",
       "      <td>Monica Hunter</td>\n",
       "      <td>Moderate Side Effects</td>\n",
       "      <td>6</td>\n",
       "      <td>5</td>\n",
       "      <td>3</td>\n",
       "      <td>6</td>\n",
       "      <td>20</td>\n",
       "      <td>10.0</td>\n",
       "      <td>0.279440</td>\n",
       "      <td>0.700318</td>\n",
       "      <td>0.079345</td>\n",
       "    </tr>\n",
       "    <tr>\n",
       "      <th>1</th>\n",
       "      <td>Patrick Smith</td>\n",
       "      <td>Severe Side Effects</td>\n",
       "      <td>10</td>\n",
       "      <td>4</td>\n",
       "      <td>4</td>\n",
       "      <td>4</td>\n",
       "      <td>22</td>\n",
       "      <td>11.0</td>\n",
       "      <td>0.320470</td>\n",
       "      <td>0.299683</td>\n",
       "      <td>0.190373</td>\n",
       "    </tr>\n",
       "    <tr>\n",
       "      <th>2</th>\n",
       "      <td>Jason Gutierrez</td>\n",
       "      <td>Extremely Severe Side Effects</td>\n",
       "      <td>4</td>\n",
       "      <td>2</td>\n",
       "      <td>2</td>\n",
       "      <td>6</td>\n",
       "      <td>14</td>\n",
       "      <td>7.0</td>\n",
       "      <td>0.219793</td>\n",
       "      <td>0.700318</td>\n",
       "      <td>0.069650</td>\n",
       "    </tr>\n",
       "    <tr>\n",
       "      <th>3</th>\n",
       "      <td>Donald Peters</td>\n",
       "      <td>Mild Side Effects</td>\n",
       "      <td>4</td>\n",
       "      <td>3</td>\n",
       "      <td>4</td>\n",
       "      <td>6</td>\n",
       "      <td>17</td>\n",
       "      <td>8.5</td>\n",
       "      <td>0.320470</td>\n",
       "      <td>0.700318</td>\n",
       "      <td>0.069650</td>\n",
       "    </tr>\n",
       "    <tr>\n",
       "      <th>4</th>\n",
       "      <td>Laura Baker</td>\n",
       "      <td>Extremely Severe Side Effects</td>\n",
       "      <td>1</td>\n",
       "      <td>2</td>\n",
       "      <td>4</td>\n",
       "      <td>6</td>\n",
       "      <td>13</td>\n",
       "      <td>6.5</td>\n",
       "      <td>0.320470</td>\n",
       "      <td>0.700318</td>\n",
       "      <td>0.049960</td>\n",
       "    </tr>\n",
       "    <tr>\n",
       "      <th>...</th>\n",
       "      <td>...</td>\n",
       "      <td>...</td>\n",
       "      <td>...</td>\n",
       "      <td>...</td>\n",
       "      <td>...</td>\n",
       "      <td>...</td>\n",
       "      <td>...</td>\n",
       "      <td>...</td>\n",
       "      <td>...</td>\n",
       "      <td>...</td>\n",
       "      <td>...</td>\n",
       "    </tr>\n",
       "    <tr>\n",
       "      <th>399995</th>\n",
       "      <td>Frank Harris</td>\n",
       "      <td>No Side Effects</td>\n",
       "      <td>9</td>\n",
       "      <td>1</td>\n",
       "      <td>2</td>\n",
       "      <td>6</td>\n",
       "      <td>18</td>\n",
       "      <td>9.0</td>\n",
       "      <td>0.219793</td>\n",
       "      <td>0.700318</td>\n",
       "      <td>0.180118</td>\n",
       "    </tr>\n",
       "    <tr>\n",
       "      <th>399996</th>\n",
       "      <td>Craig Grimes</td>\n",
       "      <td>Moderate Side Effects</td>\n",
       "      <td>8</td>\n",
       "      <td>5</td>\n",
       "      <td>3</td>\n",
       "      <td>6</td>\n",
       "      <td>22</td>\n",
       "      <td>11.0</td>\n",
       "      <td>0.279440</td>\n",
       "      <td>0.700318</td>\n",
       "      <td>0.161172</td>\n",
       "    </tr>\n",
       "    <tr>\n",
       "      <th>399997</th>\n",
       "      <td>Kenneth Guzman</td>\n",
       "      <td>No Side Effects</td>\n",
       "      <td>6</td>\n",
       "      <td>1</td>\n",
       "      <td>3</td>\n",
       "      <td>6</td>\n",
       "      <td>16</td>\n",
       "      <td>8.0</td>\n",
       "      <td>0.279440</td>\n",
       "      <td>0.700318</td>\n",
       "      <td>0.079345</td>\n",
       "    </tr>\n",
       "    <tr>\n",
       "      <th>399998</th>\n",
       "      <td>Linda Price</td>\n",
       "      <td>Extremely Severe Side Effects</td>\n",
       "      <td>7</td>\n",
       "      <td>2</td>\n",
       "      <td>1</td>\n",
       "      <td>6</td>\n",
       "      <td>16</td>\n",
       "      <td>8.0</td>\n",
       "      <td>0.180297</td>\n",
       "      <td>0.700318</td>\n",
       "      <td>0.089953</td>\n",
       "    </tr>\n",
       "    <tr>\n",
       "      <th>399999</th>\n",
       "      <td>Teresa Lawrence</td>\n",
       "      <td>Moderate Side Effects</td>\n",
       "      <td>3</td>\n",
       "      <td>5</td>\n",
       "      <td>1</td>\n",
       "      <td>6</td>\n",
       "      <td>15</td>\n",
       "      <td>7.5</td>\n",
       "      <td>0.180297</td>\n",
       "      <td>0.700318</td>\n",
       "      <td>0.059670</td>\n",
       "    </tr>\n",
       "  </tbody>\n",
       "</table>\n",
       "<p>400000 rows × 11 columns</p>\n",
       "</div>"
      ],
      "text/plain": [
       "                   name                   side_effects  age_score  \\\n",
       "0         Monica Hunter          Moderate Side Effects          6   \n",
       "1         Patrick Smith            Severe Side Effects         10   \n",
       "2       Jason Gutierrez  Extremely Severe Side Effects          4   \n",
       "3         Donald Peters              Mild Side Effects          4   \n",
       "4           Laura Baker  Extremely Severe Side Effects          1   \n",
       "...                 ...                            ...        ...   \n",
       "399995     Frank Harris                No Side Effects          9   \n",
       "399996     Craig Grimes          Moderate Side Effects          8   \n",
       "399997   Kenneth Guzman                No Side Effects          6   \n",
       "399998      Linda Price  Extremely Severe Side Effects          7   \n",
       "399999  Teresa Lawrence          Moderate Side Effects          3   \n",
       "\n",
       "        sideeffects_score  race_score  gender_score  score  rated_score  \\\n",
       "0                       5           3             6     20         10.0   \n",
       "1                       4           4             4     22         11.0   \n",
       "2                       2           2             6     14          7.0   \n",
       "3                       3           4             6     17          8.5   \n",
       "4                       2           4             6     13          6.5   \n",
       "...                   ...         ...           ...    ...          ...   \n",
       "399995                  1           2             6     18          9.0   \n",
       "399996                  5           3             6     22         11.0   \n",
       "399997                  1           3             6     16          8.0   \n",
       "399998                  2           1             6     16          8.0   \n",
       "399999                  5           1             6     15          7.5   \n",
       "\n",
       "         race_fe  gender_fe    age_fe  \n",
       "0       0.279440   0.700318  0.079345  \n",
       "1       0.320470   0.299683  0.190373  \n",
       "2       0.219793   0.700318  0.069650  \n",
       "3       0.320470   0.700318  0.069650  \n",
       "4       0.320470   0.700318  0.049960  \n",
       "...          ...        ...       ...  \n",
       "399995  0.219793   0.700318  0.180118  \n",
       "399996  0.279440   0.700318  0.161172  \n",
       "399997  0.279440   0.700318  0.079345  \n",
       "399998  0.180297   0.700318  0.089953  \n",
       "399999  0.180297   0.700318  0.059670  \n",
       "\n",
       "[400000 rows x 11 columns]"
      ]
     },
     "execution_count": 363,
     "metadata": {},
     "output_type": "execute_result"
    }
   ],
   "source": [
    "data=data.drop(['patient_id','race','gender','age'],axis=1)\n",
    "data"
   ]
  },
  {
   "cell_type": "code",
   "execution_count": 364,
   "metadata": {},
   "outputs": [
    {
     "data": {
      "text/plain": [
       "Index(['name', 'side_effects', 'age_score', 'sideeffects_score', 'race_score',\n",
       "       'gender_score', 'score', 'rated_score', 'race_fe', 'gender_fe',\n",
       "       'age_fe'],\n",
       "      dtype='object')"
      ]
     },
     "execution_count": 364,
     "metadata": {},
     "output_type": "execute_result"
    }
   ],
   "source": [
    "data.columns"
   ]
  },
  {
   "cell_type": "code",
   "execution_count": 365,
   "metadata": {},
   "outputs": [
    {
     "data": {
      "text/plain": [
       "(400000, 11)"
      ]
     },
     "execution_count": 365,
     "metadata": {},
     "output_type": "execute_result"
    }
   ],
   "source": [
    "data.shape"
   ]
  },
  {
   "cell_type": "code",
   "execution_count": 366,
   "metadata": {},
   "outputs": [
    {
     "data": {
      "text/html": [
       "<div>\n",
       "<style scoped>\n",
       "    .dataframe tbody tr th:only-of-type {\n",
       "        vertical-align: middle;\n",
       "    }\n",
       "\n",
       "    .dataframe tbody tr th {\n",
       "        vertical-align: top;\n",
       "    }\n",
       "\n",
       "    .dataframe thead th {\n",
       "        text-align: right;\n",
       "    }\n",
       "</style>\n",
       "<table border=\"1\" class=\"dataframe\">\n",
       "  <thead>\n",
       "    <tr style=\"text-align: right;\">\n",
       "      <th></th>\n",
       "      <th>side_effects</th>\n",
       "      <th>rated_score</th>\n",
       "      <th>race_fe</th>\n",
       "      <th>gender_fe</th>\n",
       "      <th>age_fe</th>\n",
       "    </tr>\n",
       "  </thead>\n",
       "  <tbody>\n",
       "    <tr>\n",
       "      <th>0</th>\n",
       "      <td>Moderate Side Effects</td>\n",
       "      <td>10.0</td>\n",
       "      <td>0.279440</td>\n",
       "      <td>0.700318</td>\n",
       "      <td>0.079345</td>\n",
       "    </tr>\n",
       "    <tr>\n",
       "      <th>1</th>\n",
       "      <td>Severe Side Effects</td>\n",
       "      <td>11.0</td>\n",
       "      <td>0.320470</td>\n",
       "      <td>0.299683</td>\n",
       "      <td>0.190373</td>\n",
       "    </tr>\n",
       "    <tr>\n",
       "      <th>2</th>\n",
       "      <td>Extremely Severe Side Effects</td>\n",
       "      <td>7.0</td>\n",
       "      <td>0.219793</td>\n",
       "      <td>0.700318</td>\n",
       "      <td>0.069650</td>\n",
       "    </tr>\n",
       "    <tr>\n",
       "      <th>3</th>\n",
       "      <td>Mild Side Effects</td>\n",
       "      <td>8.5</td>\n",
       "      <td>0.320470</td>\n",
       "      <td>0.700318</td>\n",
       "      <td>0.069650</td>\n",
       "    </tr>\n",
       "    <tr>\n",
       "      <th>4</th>\n",
       "      <td>Extremely Severe Side Effects</td>\n",
       "      <td>6.5</td>\n",
       "      <td>0.320470</td>\n",
       "      <td>0.700318</td>\n",
       "      <td>0.049960</td>\n",
       "    </tr>\n",
       "    <tr>\n",
       "      <th>...</th>\n",
       "      <td>...</td>\n",
       "      <td>...</td>\n",
       "      <td>...</td>\n",
       "      <td>...</td>\n",
       "      <td>...</td>\n",
       "    </tr>\n",
       "    <tr>\n",
       "      <th>399995</th>\n",
       "      <td>No Side Effects</td>\n",
       "      <td>9.0</td>\n",
       "      <td>0.219793</td>\n",
       "      <td>0.700318</td>\n",
       "      <td>0.180118</td>\n",
       "    </tr>\n",
       "    <tr>\n",
       "      <th>399996</th>\n",
       "      <td>Moderate Side Effects</td>\n",
       "      <td>11.0</td>\n",
       "      <td>0.279440</td>\n",
       "      <td>0.700318</td>\n",
       "      <td>0.161172</td>\n",
       "    </tr>\n",
       "    <tr>\n",
       "      <th>399997</th>\n",
       "      <td>No Side Effects</td>\n",
       "      <td>8.0</td>\n",
       "      <td>0.279440</td>\n",
       "      <td>0.700318</td>\n",
       "      <td>0.079345</td>\n",
       "    </tr>\n",
       "    <tr>\n",
       "      <th>399998</th>\n",
       "      <td>Extremely Severe Side Effects</td>\n",
       "      <td>8.0</td>\n",
       "      <td>0.180297</td>\n",
       "      <td>0.700318</td>\n",
       "      <td>0.089953</td>\n",
       "    </tr>\n",
       "    <tr>\n",
       "      <th>399999</th>\n",
       "      <td>Moderate Side Effects</td>\n",
       "      <td>7.5</td>\n",
       "      <td>0.180297</td>\n",
       "      <td>0.700318</td>\n",
       "      <td>0.059670</td>\n",
       "    </tr>\n",
       "  </tbody>\n",
       "</table>\n",
       "<p>400000 rows × 5 columns</p>\n",
       "</div>"
      ],
      "text/plain": [
       "                         side_effects  rated_score   race_fe  gender_fe  \\\n",
       "0               Moderate Side Effects         10.0  0.279440   0.700318   \n",
       "1                 Severe Side Effects         11.0  0.320470   0.299683   \n",
       "2       Extremely Severe Side Effects          7.0  0.219793   0.700318   \n",
       "3                   Mild Side Effects          8.5  0.320470   0.700318   \n",
       "4       Extremely Severe Side Effects          6.5  0.320470   0.700318   \n",
       "...                               ...          ...       ...        ...   \n",
       "399995                No Side Effects          9.0  0.219793   0.700318   \n",
       "399996          Moderate Side Effects         11.0  0.279440   0.700318   \n",
       "399997                No Side Effects          8.0  0.279440   0.700318   \n",
       "399998  Extremely Severe Side Effects          8.0  0.180297   0.700318   \n",
       "399999          Moderate Side Effects          7.5  0.180297   0.700318   \n",
       "\n",
       "          age_fe  \n",
       "0       0.079345  \n",
       "1       0.190373  \n",
       "2       0.069650  \n",
       "3       0.069650  \n",
       "4       0.049960  \n",
       "...          ...  \n",
       "399995  0.180118  \n",
       "399996  0.161172  \n",
       "399997  0.079345  \n",
       "399998  0.089953  \n",
       "399999  0.059670  \n",
       "\n",
       "[400000 rows x 5 columns]"
      ]
     },
     "execution_count": 366,
     "metadata": {},
     "output_type": "execute_result"
    }
   ],
   "source": [
    "data=data.drop(['name','age_score', 'sideeffects_score','race_score','gender_score', 'score'],axis=1)\n",
    "data"
   ]
  },
  {
   "cell_type": "code",
   "execution_count": 367,
   "metadata": {},
   "outputs": [
    {
     "name": "stdout",
     "output_type": "stream",
     "text": [
      "<class 'pandas.core.frame.DataFrame'>\n",
      "RangeIndex: 400000 entries, 0 to 399999\n",
      "Data columns (total 5 columns):\n",
      " #   Column        Non-Null Count   Dtype  \n",
      "---  ------        --------------   -----  \n",
      " 0   side_effects  400000 non-null  object \n",
      " 1   rated_score   400000 non-null  float64\n",
      " 2   race_fe       400000 non-null  float64\n",
      " 3   gender_fe     400000 non-null  float64\n",
      " 4   age_fe        400000 non-null  float64\n",
      "dtypes: float64(4), object(1)\n",
      "memory usage: 15.3+ MB\n"
     ]
    }
   ],
   "source": [
    "data.info()"
   ]
  },
  {
   "cell_type": "code",
   "execution_count": 368,
   "metadata": {},
   "outputs": [
    {
     "data": {
      "text/html": [
       "<div>\n",
       "<style scoped>\n",
       "    .dataframe tbody tr th:only-of-type {\n",
       "        vertical-align: middle;\n",
       "    }\n",
       "\n",
       "    .dataframe tbody tr th {\n",
       "        vertical-align: top;\n",
       "    }\n",
       "\n",
       "    .dataframe thead th {\n",
       "        text-align: right;\n",
       "    }\n",
       "</style>\n",
       "<table border=\"1\" class=\"dataframe\">\n",
       "  <thead>\n",
       "    <tr style=\"text-align: right;\">\n",
       "      <th></th>\n",
       "      <th>rated_score</th>\n",
       "      <th>race_fe</th>\n",
       "      <th>gender_fe</th>\n",
       "      <th>age_fe</th>\n",
       "    </tr>\n",
       "  </thead>\n",
       "  <tbody>\n",
       "    <tr>\n",
       "      <th>count</th>\n",
       "      <td>400000.000000</td>\n",
       "      <td>400000.000000</td>\n",
       "      <td>400000.000000</td>\n",
       "      <td>400000.000000</td>\n",
       "    </tr>\n",
       "    <tr>\n",
       "      <th>mean</th>\n",
       "      <td>9.188880</td>\n",
       "      <td>0.261604</td>\n",
       "      <td>0.580254</td>\n",
       "      <td>0.127321</td>\n",
       "    </tr>\n",
       "    <tr>\n",
       "      <th>std</th>\n",
       "      <td>1.692585</td>\n",
       "      <td>0.052683</td>\n",
       "      <td>0.183539</td>\n",
       "      <td>0.055549</td>\n",
       "    </tr>\n",
       "    <tr>\n",
       "      <th>min</th>\n",
       "      <td>3.500000</td>\n",
       "      <td>0.180297</td>\n",
       "      <td>0.299683</td>\n",
       "      <td>0.049960</td>\n",
       "    </tr>\n",
       "    <tr>\n",
       "      <th>25%</th>\n",
       "      <td>8.000000</td>\n",
       "      <td>0.219793</td>\n",
       "      <td>0.299683</td>\n",
       "      <td>0.069733</td>\n",
       "    </tr>\n",
       "    <tr>\n",
       "      <th>50%</th>\n",
       "      <td>9.500000</td>\n",
       "      <td>0.279440</td>\n",
       "      <td>0.700318</td>\n",
       "      <td>0.161172</td>\n",
       "    </tr>\n",
       "    <tr>\n",
       "      <th>75%</th>\n",
       "      <td>10.500000</td>\n",
       "      <td>0.320470</td>\n",
       "      <td>0.700318</td>\n",
       "      <td>0.180118</td>\n",
       "    </tr>\n",
       "    <tr>\n",
       "      <th>max</th>\n",
       "      <td>12.500000</td>\n",
       "      <td>0.320470</td>\n",
       "      <td>0.700318</td>\n",
       "      <td>0.190373</td>\n",
       "    </tr>\n",
       "  </tbody>\n",
       "</table>\n",
       "</div>"
      ],
      "text/plain": [
       "         rated_score        race_fe      gender_fe         age_fe\n",
       "count  400000.000000  400000.000000  400000.000000  400000.000000\n",
       "mean        9.188880       0.261604       0.580254       0.127321\n",
       "std         1.692585       0.052683       0.183539       0.055549\n",
       "min         3.500000       0.180297       0.299683       0.049960\n",
       "25%         8.000000       0.219793       0.299683       0.069733\n",
       "50%         9.500000       0.279440       0.700318       0.161172\n",
       "75%        10.500000       0.320470       0.700318       0.180118\n",
       "max        12.500000       0.320470       0.700318       0.190373"
      ]
     },
     "execution_count": 368,
     "metadata": {},
     "output_type": "execute_result"
    }
   ],
   "source": [
    "data.describe()"
   ]
  },
  {
   "cell_type": "code",
   "execution_count": 369,
   "metadata": {},
   "outputs": [
    {
     "data": {
      "text/plain": [
       "side_effects    1.000000\n",
       "rated_score     0.120614\n",
       "race_fe        -0.001825\n",
       "gender_fe       0.000298\n",
       "age_fe          0.001513\n",
       "Name: side_effects, dtype: float64"
      ]
     },
     "execution_count": 369,
     "metadata": {},
     "output_type": "execute_result"
    }
   ],
   "source": [
    "corrmatrix.iloc[0]"
   ]
  },
  {
   "cell_type": "code",
   "execution_count": 370,
   "metadata": {},
   "outputs": [],
   "source": [
    "# Target and Features"
   ]
  },
  {
   "cell_type": "code",
   "execution_count": 371,
   "metadata": {},
   "outputs": [
    {
     "data": {
      "text/html": [
       "<div>\n",
       "<style scoped>\n",
       "    .dataframe tbody tr th:only-of-type {\n",
       "        vertical-align: middle;\n",
       "    }\n",
       "\n",
       "    .dataframe tbody tr th {\n",
       "        vertical-align: top;\n",
       "    }\n",
       "\n",
       "    .dataframe thead th {\n",
       "        text-align: right;\n",
       "    }\n",
       "</style>\n",
       "<table border=\"1\" class=\"dataframe\">\n",
       "  <thead>\n",
       "    <tr style=\"text-align: right;\">\n",
       "      <th></th>\n",
       "      <th>rated_score</th>\n",
       "      <th>race_fe</th>\n",
       "      <th>gender_fe</th>\n",
       "      <th>age_fe</th>\n",
       "    </tr>\n",
       "  </thead>\n",
       "  <tbody>\n",
       "    <tr>\n",
       "      <th>0</th>\n",
       "      <td>10.0</td>\n",
       "      <td>0.279440</td>\n",
       "      <td>0.700318</td>\n",
       "      <td>0.079345</td>\n",
       "    </tr>\n",
       "    <tr>\n",
       "      <th>1</th>\n",
       "      <td>11.0</td>\n",
       "      <td>0.320470</td>\n",
       "      <td>0.299683</td>\n",
       "      <td>0.190373</td>\n",
       "    </tr>\n",
       "    <tr>\n",
       "      <th>2</th>\n",
       "      <td>7.0</td>\n",
       "      <td>0.219793</td>\n",
       "      <td>0.700318</td>\n",
       "      <td>0.069650</td>\n",
       "    </tr>\n",
       "    <tr>\n",
       "      <th>3</th>\n",
       "      <td>8.5</td>\n",
       "      <td>0.320470</td>\n",
       "      <td>0.700318</td>\n",
       "      <td>0.069650</td>\n",
       "    </tr>\n",
       "    <tr>\n",
       "      <th>4</th>\n",
       "      <td>6.5</td>\n",
       "      <td>0.320470</td>\n",
       "      <td>0.700318</td>\n",
       "      <td>0.049960</td>\n",
       "    </tr>\n",
       "  </tbody>\n",
       "</table>\n",
       "</div>"
      ],
      "text/plain": [
       "   rated_score   race_fe  gender_fe    age_fe\n",
       "0         10.0  0.279440   0.700318  0.079345\n",
       "1         11.0  0.320470   0.299683  0.190373\n",
       "2          7.0  0.219793   0.700318  0.069650\n",
       "3          8.5  0.320470   0.700318  0.069650\n",
       "4          6.5  0.320470   0.700318  0.049960"
      ]
     },
     "execution_count": 371,
     "metadata": {},
     "output_type": "execute_result"
    }
   ],
   "source": [
    "x=data.drop('side_effects',axis=1)\n",
    "y=data['side_effects'] \n",
    "x.head()"
   ]
  },
  {
   "cell_type": "code",
   "execution_count": 373,
   "metadata": {},
   "outputs": [],
   "source": [
    "#Splitting the dataset\n",
    "#training the dataset"
   ]
  },
  {
   "cell_type": "code",
   "execution_count": 374,
   "metadata": {},
   "outputs": [],
   "source": [
    "from sklearn.model_selection import train_test_split\n",
    "x_train, x_test, y_train, y_test = train_test_split(x, y, test_size=0.35, random_state=42)"
   ]
  },
  {
   "cell_type": "code",
   "execution_count": 375,
   "metadata": {},
   "outputs": [
    {
     "data": {
      "text/plain": [
       "(400000, 4)"
      ]
     },
     "execution_count": 375,
     "metadata": {},
     "output_type": "execute_result"
    }
   ],
   "source": [
    "x.shape"
   ]
  },
  {
   "cell_type": "code",
   "execution_count": 376,
   "metadata": {},
   "outputs": [
    {
     "data": {
      "text/plain": [
       "(260000, 4)"
      ]
     },
     "execution_count": 376,
     "metadata": {},
     "output_type": "execute_result"
    }
   ],
   "source": [
    "x_train.shape"
   ]
  },
  {
   "cell_type": "code",
   "execution_count": 377,
   "metadata": {},
   "outputs": [
    {
     "data": {
      "text/plain": [
       "(140000, 4)"
      ]
     },
     "execution_count": 377,
     "metadata": {},
     "output_type": "execute_result"
    }
   ],
   "source": [
    "x_test.shape"
   ]
  },
  {
   "cell_type": "code",
   "execution_count": 378,
   "metadata": {},
   "outputs": [
    {
     "data": {
      "text/plain": [
       "(260000,)"
      ]
     },
     "execution_count": 378,
     "metadata": {},
     "output_type": "execute_result"
    }
   ],
   "source": [
    "y_train.shape"
   ]
  },
  {
   "cell_type": "code",
   "execution_count": 379,
   "metadata": {},
   "outputs": [
    {
     "data": {
      "text/plain": [
       "(140000,)"
      ]
     },
     "execution_count": 379,
     "metadata": {},
     "output_type": "execute_result"
    }
   ],
   "source": [
    "y_test.shape"
   ]
  },
  {
   "cell_type": "code",
   "execution_count": 380,
   "metadata": {},
   "outputs": [],
   "source": [
    "# Building Classification Models"
   ]
  },
  {
   "cell_type": "code",
   "execution_count": 381,
   "metadata": {},
   "outputs": [],
   "source": [
    "#Logistic Regression"
   ]
  },
  {
   "cell_type": "code",
   "execution_count": 382,
   "metadata": {},
   "outputs": [],
   "source": [
    "from sklearn.metrics import confusion_matrix, accuracy_score,precision_score,recall_score,f1_score"
   ]
  },
  {
   "cell_type": "code",
   "execution_count": 383,
   "metadata": {},
   "outputs": [],
   "source": [
    "from sklearn.linear_model import LogisticRegression\n",
    "logit_model = LogisticRegression()\n",
    "logit_model.fit(x_train, y_train)\n",
    "y_predlr = logit_model.predict(x_test)"
   ]
  },
  {
   "cell_type": "code",
   "execution_count": 384,
   "metadata": {},
   "outputs": [
    {
     "name": "stdout",
     "output_type": "stream",
     "text": [
      "0.5897142857142857\n"
     ]
    }
   ],
   "source": [
    "print(accuracy_score(y_test,y_predlr))"
   ]
  },
  {
   "cell_type": "code",
   "execution_count": 385,
   "metadata": {},
   "outputs": [
    {
     "name": "stdout",
     "output_type": "stream",
     "text": [
      "['Moderate Side Effects' 'Severe Side Effects' 'Moderate Side Effects' ...\n",
      " 'Moderate Side Effects' 'Extremely Severe Side Effects'\n",
      " 'Severe Side Effects']\n"
     ]
    }
   ],
   "source": [
    "print(y_predlr)"
   ]
  },
  {
   "cell_type": "code",
   "execution_count": 386,
   "metadata": {},
   "outputs": [],
   "source": [
    "df = pd.read_csv('dataset.csv')"
   ]
  },
  {
   "cell_type": "code",
   "execution_count": 387,
   "metadata": {},
   "outputs": [],
   "source": [
    "df = df.sample(n=140000)"
   ]
  },
  {
   "cell_type": "code",
   "execution_count": 388,
   "metadata": {},
   "outputs": [
    {
     "data": {
      "text/html": [
       "<div>\n",
       "<style scoped>\n",
       "    .dataframe tbody tr th:only-of-type {\n",
       "        vertical-align: middle;\n",
       "    }\n",
       "\n",
       "    .dataframe tbody tr th {\n",
       "        vertical-align: top;\n",
       "    }\n",
       "\n",
       "    .dataframe thead th {\n",
       "        text-align: right;\n",
       "    }\n",
       "</style>\n",
       "<table border=\"1\" class=\"dataframe\">\n",
       "  <thead>\n",
       "    <tr style=\"text-align: right;\">\n",
       "      <th></th>\n",
       "      <th>patient_id</th>\n",
       "      <th>name</th>\n",
       "      <th>gender</th>\n",
       "      <th>age</th>\n",
       "      <th>race</th>\n",
       "      <th>side_effects</th>\n",
       "    </tr>\n",
       "  </thead>\n",
       "  <tbody>\n",
       "    <tr>\n",
       "      <th>286334</th>\n",
       "      <td>207541</td>\n",
       "      <td>Todd Evans MD</td>\n",
       "      <td>female</td>\n",
       "      <td>20-30</td>\n",
       "      <td>Hispanic</td>\n",
       "      <td>Moderate Side Effects</td>\n",
       "    </tr>\n",
       "    <tr>\n",
       "      <th>391158</th>\n",
       "      <td>201747</td>\n",
       "      <td>Michael Long</td>\n",
       "      <td>male</td>\n",
       "      <td>50-60</td>\n",
       "      <td>Black</td>\n",
       "      <td>Extremely Severe Side Effects</td>\n",
       "    </tr>\n",
       "    <tr>\n",
       "      <th>165481</th>\n",
       "      <td>243154</td>\n",
       "      <td>Mark Bowen</td>\n",
       "      <td>female</td>\n",
       "      <td>70-80</td>\n",
       "      <td>White</td>\n",
       "      <td>Extremely Severe Side Effects</td>\n",
       "    </tr>\n",
       "    <tr>\n",
       "      <th>353501</th>\n",
       "      <td>123406</td>\n",
       "      <td>Hector Morris</td>\n",
       "      <td>female</td>\n",
       "      <td>70-80</td>\n",
       "      <td>Asian</td>\n",
       "      <td>Mild Side Effects</td>\n",
       "    </tr>\n",
       "    <tr>\n",
       "      <th>330491</th>\n",
       "      <td>8170</td>\n",
       "      <td>Mark George</td>\n",
       "      <td>female</td>\n",
       "      <td>30-40</td>\n",
       "      <td>Black</td>\n",
       "      <td>Severe Side Effects</td>\n",
       "    </tr>\n",
       "    <tr>\n",
       "      <th>...</th>\n",
       "      <td>...</td>\n",
       "      <td>...</td>\n",
       "      <td>...</td>\n",
       "      <td>...</td>\n",
       "      <td>...</td>\n",
       "      <td>...</td>\n",
       "    </tr>\n",
       "    <tr>\n",
       "      <th>393410</th>\n",
       "      <td>35095</td>\n",
       "      <td>Jeffrey Joseph</td>\n",
       "      <td>female</td>\n",
       "      <td>60-70</td>\n",
       "      <td>Black</td>\n",
       "      <td>Mild Side Effects</td>\n",
       "    </tr>\n",
       "    <tr>\n",
       "      <th>57292</th>\n",
       "      <td>350218</td>\n",
       "      <td>Kristen Ryan</td>\n",
       "      <td>male</td>\n",
       "      <td>70-80</td>\n",
       "      <td>White</td>\n",
       "      <td>Extremely Severe Side Effects</td>\n",
       "    </tr>\n",
       "    <tr>\n",
       "      <th>348039</th>\n",
       "      <td>93940</td>\n",
       "      <td>Mario Barnes</td>\n",
       "      <td>female</td>\n",
       "      <td>90-100</td>\n",
       "      <td>White</td>\n",
       "      <td>No Side Effects</td>\n",
       "    </tr>\n",
       "    <tr>\n",
       "      <th>397105</th>\n",
       "      <td>338485</td>\n",
       "      <td>Jennifer Graves</td>\n",
       "      <td>male</td>\n",
       "      <td>50-60</td>\n",
       "      <td>White</td>\n",
       "      <td>Severe Side Effects</td>\n",
       "    </tr>\n",
       "    <tr>\n",
       "      <th>114986</th>\n",
       "      <td>12203</td>\n",
       "      <td>Timothy Goodman</td>\n",
       "      <td>female</td>\n",
       "      <td>20-30</td>\n",
       "      <td>White</td>\n",
       "      <td>Severe Side Effects</td>\n",
       "    </tr>\n",
       "  </tbody>\n",
       "</table>\n",
       "<p>140000 rows × 6 columns</p>\n",
       "</div>"
      ],
      "text/plain": [
       "        patient_id             name  gender     age      race  \\\n",
       "286334      207541    Todd Evans MD  female   20-30  Hispanic   \n",
       "391158      201747     Michael Long    male   50-60     Black   \n",
       "165481      243154       Mark Bowen  female   70-80     White   \n",
       "353501      123406    Hector Morris  female   70-80     Asian   \n",
       "330491        8170      Mark George  female   30-40     Black   \n",
       "...            ...              ...     ...     ...       ...   \n",
       "393410       35095   Jeffrey Joseph  female   60-70     Black   \n",
       "57292       350218     Kristen Ryan    male   70-80     White   \n",
       "348039       93940     Mario Barnes  female  90-100     White   \n",
       "397105      338485  Jennifer Graves    male   50-60     White   \n",
       "114986       12203  Timothy Goodman  female   20-30     White   \n",
       "\n",
       "                         side_effects  \n",
       "286334          Moderate Side Effects  \n",
       "391158  Extremely Severe Side Effects  \n",
       "165481  Extremely Severe Side Effects  \n",
       "353501              Mild Side Effects  \n",
       "330491            Severe Side Effects  \n",
       "...                               ...  \n",
       "393410              Mild Side Effects  \n",
       "57292   Extremely Severe Side Effects  \n",
       "348039                No Side Effects  \n",
       "397105            Severe Side Effects  \n",
       "114986            Severe Side Effects  \n",
       "\n",
       "[140000 rows x 6 columns]"
      ]
     },
     "execution_count": 388,
     "metadata": {},
     "output_type": "execute_result"
    }
   ],
   "source": [
    "df"
   ]
  },
  {
   "cell_type": "code",
   "execution_count": 389,
   "metadata": {},
   "outputs": [],
   "source": [
    "df=df.drop(['name','age','race','gender'],axis=1)"
   ]
  },
  {
   "cell_type": "code",
   "execution_count": 390,
   "metadata": {},
   "outputs": [
    {
     "data": {
      "text/html": [
       "<div>\n",
       "<style scoped>\n",
       "    .dataframe tbody tr th:only-of-type {\n",
       "        vertical-align: middle;\n",
       "    }\n",
       "\n",
       "    .dataframe tbody tr th {\n",
       "        vertical-align: top;\n",
       "    }\n",
       "\n",
       "    .dataframe thead th {\n",
       "        text-align: right;\n",
       "    }\n",
       "</style>\n",
       "<table border=\"1\" class=\"dataframe\">\n",
       "  <thead>\n",
       "    <tr style=\"text-align: right;\">\n",
       "      <th></th>\n",
       "      <th>patient_id</th>\n",
       "      <th>side_effects</th>\n",
       "    </tr>\n",
       "  </thead>\n",
       "  <tbody>\n",
       "    <tr>\n",
       "      <th>286334</th>\n",
       "      <td>207541</td>\n",
       "      <td>Moderate Side Effects</td>\n",
       "    </tr>\n",
       "    <tr>\n",
       "      <th>391158</th>\n",
       "      <td>201747</td>\n",
       "      <td>Extremely Severe Side Effects</td>\n",
       "    </tr>\n",
       "    <tr>\n",
       "      <th>165481</th>\n",
       "      <td>243154</td>\n",
       "      <td>Extremely Severe Side Effects</td>\n",
       "    </tr>\n",
       "    <tr>\n",
       "      <th>353501</th>\n",
       "      <td>123406</td>\n",
       "      <td>Mild Side Effects</td>\n",
       "    </tr>\n",
       "    <tr>\n",
       "      <th>330491</th>\n",
       "      <td>8170</td>\n",
       "      <td>Severe Side Effects</td>\n",
       "    </tr>\n",
       "    <tr>\n",
       "      <th>...</th>\n",
       "      <td>...</td>\n",
       "      <td>...</td>\n",
       "    </tr>\n",
       "    <tr>\n",
       "      <th>393410</th>\n",
       "      <td>35095</td>\n",
       "      <td>Mild Side Effects</td>\n",
       "    </tr>\n",
       "    <tr>\n",
       "      <th>57292</th>\n",
       "      <td>350218</td>\n",
       "      <td>Extremely Severe Side Effects</td>\n",
       "    </tr>\n",
       "    <tr>\n",
       "      <th>348039</th>\n",
       "      <td>93940</td>\n",
       "      <td>No Side Effects</td>\n",
       "    </tr>\n",
       "    <tr>\n",
       "      <th>397105</th>\n",
       "      <td>338485</td>\n",
       "      <td>Severe Side Effects</td>\n",
       "    </tr>\n",
       "    <tr>\n",
       "      <th>114986</th>\n",
       "      <td>12203</td>\n",
       "      <td>Severe Side Effects</td>\n",
       "    </tr>\n",
       "  </tbody>\n",
       "</table>\n",
       "<p>140000 rows × 2 columns</p>\n",
       "</div>"
      ],
      "text/plain": [
       "        patient_id                   side_effects\n",
       "286334      207541          Moderate Side Effects\n",
       "391158      201747  Extremely Severe Side Effects\n",
       "165481      243154  Extremely Severe Side Effects\n",
       "353501      123406              Mild Side Effects\n",
       "330491        8170            Severe Side Effects\n",
       "...            ...                            ...\n",
       "393410       35095              Mild Side Effects\n",
       "57292       350218  Extremely Severe Side Effects\n",
       "348039       93940                No Side Effects\n",
       "397105      338485            Severe Side Effects\n",
       "114986       12203            Severe Side Effects\n",
       "\n",
       "[140000 rows x 2 columns]"
      ]
     },
     "execution_count": 390,
     "metadata": {},
     "output_type": "execute_result"
    }
   ],
   "source": [
    "df"
   ]
  },
  {
   "cell_type": "code",
   "execution_count": 392,
   "metadata": {},
   "outputs": [],
   "source": [
    "df.to_csv('side_effects1.csv') "
   ]
  },
  {
   "cell_type": "code",
   "execution_count": 393,
   "metadata": {},
   "outputs": [],
   "source": [
    "sample = pd.read_csv('side_effects1.csv')"
   ]
  },
  {
   "cell_type": "code",
   "execution_count": 394,
   "metadata": {},
   "outputs": [],
   "source": [
    "sample['side_effects'] = y_predlr"
   ]
  },
  {
   "cell_type": "code",
   "execution_count": 395,
   "metadata": {},
   "outputs": [
    {
     "data": {
      "text/plain": [
       "Index(['Unnamed: 0', 'patient_id', 'side_effects'], dtype='object')"
      ]
     },
     "execution_count": 395,
     "metadata": {},
     "output_type": "execute_result"
    }
   ],
   "source": [
    "sample.columns"
   ]
  },
  {
   "cell_type": "code",
   "execution_count": 396,
   "metadata": {},
   "outputs": [],
   "source": [
    "sample=sample.drop(['Unnamed: 0'],axis=1)"
   ]
  },
  {
   "cell_type": "code",
   "execution_count": 398,
   "metadata": {},
   "outputs": [
    {
     "data": {
      "text/html": [
       "<div>\n",
       "<style scoped>\n",
       "    .dataframe tbody tr th:only-of-type {\n",
       "        vertical-align: middle;\n",
       "    }\n",
       "\n",
       "    .dataframe tbody tr th {\n",
       "        vertical-align: top;\n",
       "    }\n",
       "\n",
       "    .dataframe thead th {\n",
       "        text-align: right;\n",
       "    }\n",
       "</style>\n",
       "<table border=\"1\" class=\"dataframe\">\n",
       "  <thead>\n",
       "    <tr style=\"text-align: right;\">\n",
       "      <th></th>\n",
       "      <th>patient_id</th>\n",
       "      <th>side_effects</th>\n",
       "    </tr>\n",
       "  </thead>\n",
       "  <tbody>\n",
       "    <tr>\n",
       "      <th>0</th>\n",
       "      <td>207541</td>\n",
       "      <td>Moderate Side Effects</td>\n",
       "    </tr>\n",
       "    <tr>\n",
       "      <th>1</th>\n",
       "      <td>201747</td>\n",
       "      <td>Severe Side Effects</td>\n",
       "    </tr>\n",
       "    <tr>\n",
       "      <th>2</th>\n",
       "      <td>243154</td>\n",
       "      <td>Moderate Side Effects</td>\n",
       "    </tr>\n",
       "    <tr>\n",
       "      <th>3</th>\n",
       "      <td>123406</td>\n",
       "      <td>Severe Side Effects</td>\n",
       "    </tr>\n",
       "    <tr>\n",
       "      <th>4</th>\n",
       "      <td>8170</td>\n",
       "      <td>Extremely Severe Side Effects</td>\n",
       "    </tr>\n",
       "    <tr>\n",
       "      <th>5</th>\n",
       "      <td>74782</td>\n",
       "      <td>Extremely Severe Side Effects</td>\n",
       "    </tr>\n",
       "    <tr>\n",
       "      <th>6</th>\n",
       "      <td>237369</td>\n",
       "      <td>Severe Side Effects</td>\n",
       "    </tr>\n",
       "    <tr>\n",
       "      <th>7</th>\n",
       "      <td>76338</td>\n",
       "      <td>Moderate Side Effects</td>\n",
       "    </tr>\n",
       "    <tr>\n",
       "      <th>8</th>\n",
       "      <td>205675</td>\n",
       "      <td>Moderate Side Effects</td>\n",
       "    </tr>\n",
       "    <tr>\n",
       "      <th>9</th>\n",
       "      <td>206838</td>\n",
       "      <td>Moderate Side Effects</td>\n",
       "    </tr>\n",
       "    <tr>\n",
       "      <th>10</th>\n",
       "      <td>167426</td>\n",
       "      <td>Moderate Side Effects</td>\n",
       "    </tr>\n",
       "    <tr>\n",
       "      <th>11</th>\n",
       "      <td>187054</td>\n",
       "      <td>Moderate Side Effects</td>\n",
       "    </tr>\n",
       "    <tr>\n",
       "      <th>12</th>\n",
       "      <td>44</td>\n",
       "      <td>Extremely Severe Side Effects</td>\n",
       "    </tr>\n",
       "    <tr>\n",
       "      <th>13</th>\n",
       "      <td>129874</td>\n",
       "      <td>Moderate Side Effects</td>\n",
       "    </tr>\n",
       "    <tr>\n",
       "      <th>14</th>\n",
       "      <td>359232</td>\n",
       "      <td>Extremely Severe Side Effects</td>\n",
       "    </tr>\n",
       "    <tr>\n",
       "      <th>15</th>\n",
       "      <td>24425</td>\n",
       "      <td>Moderate Side Effects</td>\n",
       "    </tr>\n",
       "    <tr>\n",
       "      <th>16</th>\n",
       "      <td>240392</td>\n",
       "      <td>Moderate Side Effects</td>\n",
       "    </tr>\n",
       "    <tr>\n",
       "      <th>17</th>\n",
       "      <td>211128</td>\n",
       "      <td>Moderate Side Effects</td>\n",
       "    </tr>\n",
       "    <tr>\n",
       "      <th>18</th>\n",
       "      <td>338751</td>\n",
       "      <td>Extremely Severe Side Effects</td>\n",
       "    </tr>\n",
       "    <tr>\n",
       "      <th>19</th>\n",
       "      <td>91133</td>\n",
       "      <td>Extremely Severe Side Effects</td>\n",
       "    </tr>\n",
       "    <tr>\n",
       "      <th>20</th>\n",
       "      <td>170137</td>\n",
       "      <td>Moderate Side Effects</td>\n",
       "    </tr>\n",
       "    <tr>\n",
       "      <th>21</th>\n",
       "      <td>260070</td>\n",
       "      <td>Extremely Severe Side Effects</td>\n",
       "    </tr>\n",
       "    <tr>\n",
       "      <th>22</th>\n",
       "      <td>54372</td>\n",
       "      <td>Extremely Severe Side Effects</td>\n",
       "    </tr>\n",
       "    <tr>\n",
       "      <th>23</th>\n",
       "      <td>342940</td>\n",
       "      <td>Moderate Side Effects</td>\n",
       "    </tr>\n",
       "    <tr>\n",
       "      <th>24</th>\n",
       "      <td>109961</td>\n",
       "      <td>Moderate Side Effects</td>\n",
       "    </tr>\n",
       "    <tr>\n",
       "      <th>25</th>\n",
       "      <td>270195</td>\n",
       "      <td>Extremely Severe Side Effects</td>\n",
       "    </tr>\n",
       "    <tr>\n",
       "      <th>26</th>\n",
       "      <td>305943</td>\n",
       "      <td>Severe Side Effects</td>\n",
       "    </tr>\n",
       "    <tr>\n",
       "      <th>27</th>\n",
       "      <td>210391</td>\n",
       "      <td>Severe Side Effects</td>\n",
       "    </tr>\n",
       "    <tr>\n",
       "      <th>28</th>\n",
       "      <td>300037</td>\n",
       "      <td>Moderate Side Effects</td>\n",
       "    </tr>\n",
       "    <tr>\n",
       "      <th>29</th>\n",
       "      <td>126654</td>\n",
       "      <td>Extremely Severe Side Effects</td>\n",
       "    </tr>\n",
       "    <tr>\n",
       "      <th>30</th>\n",
       "      <td>248816</td>\n",
       "      <td>Moderate Side Effects</td>\n",
       "    </tr>\n",
       "    <tr>\n",
       "      <th>31</th>\n",
       "      <td>21508</td>\n",
       "      <td>Moderate Side Effects</td>\n",
       "    </tr>\n",
       "    <tr>\n",
       "      <th>32</th>\n",
       "      <td>394862</td>\n",
       "      <td>Moderate Side Effects</td>\n",
       "    </tr>\n",
       "    <tr>\n",
       "      <th>33</th>\n",
       "      <td>335249</td>\n",
       "      <td>Moderate Side Effects</td>\n",
       "    </tr>\n",
       "    <tr>\n",
       "      <th>34</th>\n",
       "      <td>232623</td>\n",
       "      <td>Severe Side Effects</td>\n",
       "    </tr>\n",
       "    <tr>\n",
       "      <th>35</th>\n",
       "      <td>187609</td>\n",
       "      <td>Moderate Side Effects</td>\n",
       "    </tr>\n",
       "    <tr>\n",
       "      <th>36</th>\n",
       "      <td>169224</td>\n",
       "      <td>Severe Side Effects</td>\n",
       "    </tr>\n",
       "    <tr>\n",
       "      <th>37</th>\n",
       "      <td>366817</td>\n",
       "      <td>Moderate Side Effects</td>\n",
       "    </tr>\n",
       "    <tr>\n",
       "      <th>38</th>\n",
       "      <td>366919</td>\n",
       "      <td>Moderate Side Effects</td>\n",
       "    </tr>\n",
       "    <tr>\n",
       "      <th>39</th>\n",
       "      <td>42448</td>\n",
       "      <td>Severe Side Effects</td>\n",
       "    </tr>\n",
       "    <tr>\n",
       "      <th>40</th>\n",
       "      <td>242228</td>\n",
       "      <td>Severe Side Effects</td>\n",
       "    </tr>\n",
       "    <tr>\n",
       "      <th>41</th>\n",
       "      <td>340748</td>\n",
       "      <td>Moderate Side Effects</td>\n",
       "    </tr>\n",
       "    <tr>\n",
       "      <th>42</th>\n",
       "      <td>278662</td>\n",
       "      <td>Severe Side Effects</td>\n",
       "    </tr>\n",
       "    <tr>\n",
       "      <th>43</th>\n",
       "      <td>159081</td>\n",
       "      <td>No Side Effects</td>\n",
       "    </tr>\n",
       "    <tr>\n",
       "      <th>44</th>\n",
       "      <td>337130</td>\n",
       "      <td>Severe Side Effects</td>\n",
       "    </tr>\n",
       "    <tr>\n",
       "      <th>45</th>\n",
       "      <td>237009</td>\n",
       "      <td>Moderate Side Effects</td>\n",
       "    </tr>\n",
       "    <tr>\n",
       "      <th>46</th>\n",
       "      <td>181896</td>\n",
       "      <td>Severe Side Effects</td>\n",
       "    </tr>\n",
       "    <tr>\n",
       "      <th>47</th>\n",
       "      <td>67720</td>\n",
       "      <td>Moderate Side Effects</td>\n",
       "    </tr>\n",
       "    <tr>\n",
       "      <th>48</th>\n",
       "      <td>209</td>\n",
       "      <td>No Side Effects</td>\n",
       "    </tr>\n",
       "    <tr>\n",
       "      <th>49</th>\n",
       "      <td>136158</td>\n",
       "      <td>Moderate Side Effects</td>\n",
       "    </tr>\n",
       "  </tbody>\n",
       "</table>\n",
       "</div>"
      ],
      "text/plain": [
       "    patient_id                   side_effects\n",
       "0       207541          Moderate Side Effects\n",
       "1       201747            Severe Side Effects\n",
       "2       243154          Moderate Side Effects\n",
       "3       123406            Severe Side Effects\n",
       "4         8170  Extremely Severe Side Effects\n",
       "5        74782  Extremely Severe Side Effects\n",
       "6       237369            Severe Side Effects\n",
       "7        76338          Moderate Side Effects\n",
       "8       205675          Moderate Side Effects\n",
       "9       206838          Moderate Side Effects\n",
       "10      167426          Moderate Side Effects\n",
       "11      187054          Moderate Side Effects\n",
       "12          44  Extremely Severe Side Effects\n",
       "13      129874          Moderate Side Effects\n",
       "14      359232  Extremely Severe Side Effects\n",
       "15       24425          Moderate Side Effects\n",
       "16      240392          Moderate Side Effects\n",
       "17      211128          Moderate Side Effects\n",
       "18      338751  Extremely Severe Side Effects\n",
       "19       91133  Extremely Severe Side Effects\n",
       "20      170137          Moderate Side Effects\n",
       "21      260070  Extremely Severe Side Effects\n",
       "22       54372  Extremely Severe Side Effects\n",
       "23      342940          Moderate Side Effects\n",
       "24      109961          Moderate Side Effects\n",
       "25      270195  Extremely Severe Side Effects\n",
       "26      305943            Severe Side Effects\n",
       "27      210391            Severe Side Effects\n",
       "28      300037          Moderate Side Effects\n",
       "29      126654  Extremely Severe Side Effects\n",
       "30      248816          Moderate Side Effects\n",
       "31       21508          Moderate Side Effects\n",
       "32      394862          Moderate Side Effects\n",
       "33      335249          Moderate Side Effects\n",
       "34      232623            Severe Side Effects\n",
       "35      187609          Moderate Side Effects\n",
       "36      169224            Severe Side Effects\n",
       "37      366817          Moderate Side Effects\n",
       "38      366919          Moderate Side Effects\n",
       "39       42448            Severe Side Effects\n",
       "40      242228            Severe Side Effects\n",
       "41      340748          Moderate Side Effects\n",
       "42      278662            Severe Side Effects\n",
       "43      159081                No Side Effects\n",
       "44      337130            Severe Side Effects\n",
       "45      237009          Moderate Side Effects\n",
       "46      181896            Severe Side Effects\n",
       "47       67720          Moderate Side Effects\n",
       "48         209                No Side Effects\n",
       "49      136158          Moderate Side Effects"
      ]
     },
     "execution_count": 398,
     "metadata": {},
     "output_type": "execute_result"
    }
   ],
   "source": [
    "sample.head(50)"
   ]
  },
  {
   "cell_type": "code",
   "execution_count": 414,
   "metadata": {},
   "outputs": [],
   "source": [
    "from sklearn.metrics import accuracy_score"
   ]
  },
  {
   "cell_type": "code",
   "execution_count": 415,
   "metadata": {},
   "outputs": [
    {
     "name": "stdout",
     "output_type": "stream",
     "text": [
      "['No Side Effects']\n"
     ]
    }
   ],
   "source": [
    "sample = [[0.2,0.1,0.1,0.1]]\n",
    "print(logit_model.predict(sample))"
   ]
  },
  {
   "cell_type": "code",
   "execution_count": 416,
   "metadata": {},
   "outputs": [],
   "source": [
    "#  Random forest with Hyperparameter tuning "
   ]
  },
  {
   "cell_type": "code",
   "execution_count": 417,
   "metadata": {},
   "outputs": [
    {
     "data": {
      "text/plain": [
       "RandomForestClassifier(max_depth=7, max_features=4, min_samples_leaf=2,\n",
       "                       min_samples_split=5, n_estimators=1500, n_jobs=1,\n",
       "                       random_state=42)"
      ]
     },
     "execution_count": 417,
     "metadata": {},
     "output_type": "execute_result"
    }
   ],
   "source": [
    "from sklearn.ensemble import RandomForestClassifier\n",
    "rfh = RandomForestClassifier(max_depth=7, max_features=4, min_samples_leaf=2,\n",
    "                      min_samples_split=5, n_estimators=1500, n_jobs=1,\n",
    "                      random_state=42)\n",
    "rfh.fit(x_train, y_train)"
   ]
  },
  {
   "cell_type": "code",
   "execution_count": 418,
   "metadata": {},
   "outputs": [],
   "source": [
    "y_predrfh=rfh.predict(x_test)"
   ]
  },
  {
   "cell_type": "code",
   "execution_count": 419,
   "metadata": {},
   "outputs": [
    {
     "data": {
      "text/plain": [
       "array(['Extremely Severe Side Effects', 'Moderate Side Effects',\n",
       "       'Moderate Side Effects', ..., 'Extremely Severe Side Effects',\n",
       "       'Extremely Severe Side Effects', 'Mild Side Effects'], dtype=object)"
      ]
     },
     "execution_count": 419,
     "metadata": {},
     "output_type": "execute_result"
    }
   ],
   "source": [
    "y_predrfh"
   ]
  },
  {
   "cell_type": "code",
   "execution_count": 420,
   "metadata": {},
   "outputs": [
    {
     "data": {
      "text/plain": [
       "0.6446214285714286"
      ]
     },
     "execution_count": 420,
     "metadata": {},
     "output_type": "execute_result"
    }
   ],
   "source": [
    "accuracy_score(y_test,y_predrfh)"
   ]
  },
  {
   "cell_type": "code",
   "execution_count": 421,
   "metadata": {},
   "outputs": [],
   "source": [
    "sample1 = pd.read_csv('side_effects1.csv')"
   ]
  },
  {
   "cell_type": "code",
   "execution_count": 422,
   "metadata": {},
   "outputs": [],
   "source": [
    "sample1['side_effects'] = y_predrfh"
   ]
  },
  {
   "cell_type": "code",
   "execution_count": 423,
   "metadata": {},
   "outputs": [
    {
     "data": {
      "text/plain": [
       "Index(['Unnamed: 0', 'patient_id', 'side_effects'], dtype='object')"
      ]
     },
     "execution_count": 423,
     "metadata": {},
     "output_type": "execute_result"
    }
   ],
   "source": [
    "sample1.columns"
   ]
  },
  {
   "cell_type": "code",
   "execution_count": 424,
   "metadata": {},
   "outputs": [],
   "source": [
    "sample1=sample1.drop(['Unnamed: 0'],axis=1)"
   ]
  },
  {
   "cell_type": "code",
   "execution_count": 425,
   "metadata": {},
   "outputs": [
    {
     "data": {
      "text/html": [
       "<div>\n",
       "<style scoped>\n",
       "    .dataframe tbody tr th:only-of-type {\n",
       "        vertical-align: middle;\n",
       "    }\n",
       "\n",
       "    .dataframe tbody tr th {\n",
       "        vertical-align: top;\n",
       "    }\n",
       "\n",
       "    .dataframe thead th {\n",
       "        text-align: right;\n",
       "    }\n",
       "</style>\n",
       "<table border=\"1\" class=\"dataframe\">\n",
       "  <thead>\n",
       "    <tr style=\"text-align: right;\">\n",
       "      <th></th>\n",
       "      <th>patient_id</th>\n",
       "      <th>side_effects</th>\n",
       "    </tr>\n",
       "  </thead>\n",
       "  <tbody>\n",
       "    <tr>\n",
       "      <th>0</th>\n",
       "      <td>207541</td>\n",
       "      <td>Extremely Severe Side Effects</td>\n",
       "    </tr>\n",
       "    <tr>\n",
       "      <th>1</th>\n",
       "      <td>201747</td>\n",
       "      <td>Moderate Side Effects</td>\n",
       "    </tr>\n",
       "    <tr>\n",
       "      <th>2</th>\n",
       "      <td>243154</td>\n",
       "      <td>Moderate Side Effects</td>\n",
       "    </tr>\n",
       "    <tr>\n",
       "      <th>3</th>\n",
       "      <td>123406</td>\n",
       "      <td>Extremely Severe Side Effects</td>\n",
       "    </tr>\n",
       "    <tr>\n",
       "      <th>4</th>\n",
       "      <td>8170</td>\n",
       "      <td>Extremely Severe Side Effects</td>\n",
       "    </tr>\n",
       "    <tr>\n",
       "      <th>5</th>\n",
       "      <td>74782</td>\n",
       "      <td>Mild Side Effects</td>\n",
       "    </tr>\n",
       "    <tr>\n",
       "      <th>6</th>\n",
       "      <td>237369</td>\n",
       "      <td>Extremely Severe Side Effects</td>\n",
       "    </tr>\n",
       "    <tr>\n",
       "      <th>7</th>\n",
       "      <td>76338</td>\n",
       "      <td>Moderate Side Effects</td>\n",
       "    </tr>\n",
       "    <tr>\n",
       "      <th>8</th>\n",
       "      <td>205675</td>\n",
       "      <td>Extremely Severe Side Effects</td>\n",
       "    </tr>\n",
       "    <tr>\n",
       "      <th>9</th>\n",
       "      <td>206838</td>\n",
       "      <td>Severe Side Effects</td>\n",
       "    </tr>\n",
       "    <tr>\n",
       "      <th>10</th>\n",
       "      <td>167426</td>\n",
       "      <td>Mild Side Effects</td>\n",
       "    </tr>\n",
       "    <tr>\n",
       "      <th>11</th>\n",
       "      <td>187054</td>\n",
       "      <td>Moderate Side Effects</td>\n",
       "    </tr>\n",
       "    <tr>\n",
       "      <th>12</th>\n",
       "      <td>44</td>\n",
       "      <td>No Side Effects</td>\n",
       "    </tr>\n",
       "    <tr>\n",
       "      <th>13</th>\n",
       "      <td>129874</td>\n",
       "      <td>Moderate Side Effects</td>\n",
       "    </tr>\n",
       "    <tr>\n",
       "      <th>14</th>\n",
       "      <td>359232</td>\n",
       "      <td>No Side Effects</td>\n",
       "    </tr>\n",
       "    <tr>\n",
       "      <th>15</th>\n",
       "      <td>24425</td>\n",
       "      <td>Severe Side Effects</td>\n",
       "    </tr>\n",
       "    <tr>\n",
       "      <th>16</th>\n",
       "      <td>240392</td>\n",
       "      <td>Mild Side Effects</td>\n",
       "    </tr>\n",
       "    <tr>\n",
       "      <th>17</th>\n",
       "      <td>211128</td>\n",
       "      <td>Moderate Side Effects</td>\n",
       "    </tr>\n",
       "    <tr>\n",
       "      <th>18</th>\n",
       "      <td>338751</td>\n",
       "      <td>Mild Side Effects</td>\n",
       "    </tr>\n",
       "    <tr>\n",
       "      <th>19</th>\n",
       "      <td>91133</td>\n",
       "      <td>No Side Effects</td>\n",
       "    </tr>\n",
       "    <tr>\n",
       "      <th>20</th>\n",
       "      <td>170137</td>\n",
       "      <td>Extremely Severe Side Effects</td>\n",
       "    </tr>\n",
       "    <tr>\n",
       "      <th>21</th>\n",
       "      <td>260070</td>\n",
       "      <td>No Side Effects</td>\n",
       "    </tr>\n",
       "    <tr>\n",
       "      <th>22</th>\n",
       "      <td>54372</td>\n",
       "      <td>No Side Effects</td>\n",
       "    </tr>\n",
       "    <tr>\n",
       "      <th>23</th>\n",
       "      <td>342940</td>\n",
       "      <td>Moderate Side Effects</td>\n",
       "    </tr>\n",
       "    <tr>\n",
       "      <th>24</th>\n",
       "      <td>109961</td>\n",
       "      <td>Severe Side Effects</td>\n",
       "    </tr>\n",
       "    <tr>\n",
       "      <th>25</th>\n",
       "      <td>270195</td>\n",
       "      <td>Extremely Severe Side Effects</td>\n",
       "    </tr>\n",
       "    <tr>\n",
       "      <th>26</th>\n",
       "      <td>305943</td>\n",
       "      <td>Moderate Side Effects</td>\n",
       "    </tr>\n",
       "    <tr>\n",
       "      <th>27</th>\n",
       "      <td>210391</td>\n",
       "      <td>Severe Side Effects</td>\n",
       "    </tr>\n",
       "    <tr>\n",
       "      <th>28</th>\n",
       "      <td>300037</td>\n",
       "      <td>Moderate Side Effects</td>\n",
       "    </tr>\n",
       "    <tr>\n",
       "      <th>29</th>\n",
       "      <td>126654</td>\n",
       "      <td>Mild Side Effects</td>\n",
       "    </tr>\n",
       "    <tr>\n",
       "      <th>30</th>\n",
       "      <td>248816</td>\n",
       "      <td>Moderate Side Effects</td>\n",
       "    </tr>\n",
       "    <tr>\n",
       "      <th>31</th>\n",
       "      <td>21508</td>\n",
       "      <td>Moderate Side Effects</td>\n",
       "    </tr>\n",
       "    <tr>\n",
       "      <th>32</th>\n",
       "      <td>394862</td>\n",
       "      <td>Moderate Side Effects</td>\n",
       "    </tr>\n",
       "    <tr>\n",
       "      <th>33</th>\n",
       "      <td>335249</td>\n",
       "      <td>Moderate Side Effects</td>\n",
       "    </tr>\n",
       "    <tr>\n",
       "      <th>34</th>\n",
       "      <td>232623</td>\n",
       "      <td>Severe Side Effects</td>\n",
       "    </tr>\n",
       "    <tr>\n",
       "      <th>35</th>\n",
       "      <td>187609</td>\n",
       "      <td>Moderate Side Effects</td>\n",
       "    </tr>\n",
       "    <tr>\n",
       "      <th>36</th>\n",
       "      <td>169224</td>\n",
       "      <td>Moderate Side Effects</td>\n",
       "    </tr>\n",
       "    <tr>\n",
       "      <th>37</th>\n",
       "      <td>366817</td>\n",
       "      <td>Severe Side Effects</td>\n",
       "    </tr>\n",
       "    <tr>\n",
       "      <th>38</th>\n",
       "      <td>366919</td>\n",
       "      <td>Moderate Side Effects</td>\n",
       "    </tr>\n",
       "    <tr>\n",
       "      <th>39</th>\n",
       "      <td>42448</td>\n",
       "      <td>Mild Side Effects</td>\n",
       "    </tr>\n",
       "    <tr>\n",
       "      <th>40</th>\n",
       "      <td>242228</td>\n",
       "      <td>Severe Side Effects</td>\n",
       "    </tr>\n",
       "    <tr>\n",
       "      <th>41</th>\n",
       "      <td>340748</td>\n",
       "      <td>Extremely Severe Side Effects</td>\n",
       "    </tr>\n",
       "    <tr>\n",
       "      <th>42</th>\n",
       "      <td>278662</td>\n",
       "      <td>Extremely Severe Side Effects</td>\n",
       "    </tr>\n",
       "    <tr>\n",
       "      <th>43</th>\n",
       "      <td>159081</td>\n",
       "      <td>Moderate Side Effects</td>\n",
       "    </tr>\n",
       "    <tr>\n",
       "      <th>44</th>\n",
       "      <td>337130</td>\n",
       "      <td>Severe Side Effects</td>\n",
       "    </tr>\n",
       "    <tr>\n",
       "      <th>45</th>\n",
       "      <td>237009</td>\n",
       "      <td>Mild Side Effects</td>\n",
       "    </tr>\n",
       "    <tr>\n",
       "      <th>46</th>\n",
       "      <td>181896</td>\n",
       "      <td>Mild Side Effects</td>\n",
       "    </tr>\n",
       "    <tr>\n",
       "      <th>47</th>\n",
       "      <td>67720</td>\n",
       "      <td>Moderate Side Effects</td>\n",
       "    </tr>\n",
       "    <tr>\n",
       "      <th>48</th>\n",
       "      <td>209</td>\n",
       "      <td>Extremely Severe Side Effects</td>\n",
       "    </tr>\n",
       "    <tr>\n",
       "      <th>49</th>\n",
       "      <td>136158</td>\n",
       "      <td>Moderate Side Effects</td>\n",
       "    </tr>\n",
       "  </tbody>\n",
       "</table>\n",
       "</div>"
      ],
      "text/plain": [
       "    patient_id                   side_effects\n",
       "0       207541  Extremely Severe Side Effects\n",
       "1       201747          Moderate Side Effects\n",
       "2       243154          Moderate Side Effects\n",
       "3       123406  Extremely Severe Side Effects\n",
       "4         8170  Extremely Severe Side Effects\n",
       "5        74782              Mild Side Effects\n",
       "6       237369  Extremely Severe Side Effects\n",
       "7        76338          Moderate Side Effects\n",
       "8       205675  Extremely Severe Side Effects\n",
       "9       206838            Severe Side Effects\n",
       "10      167426              Mild Side Effects\n",
       "11      187054          Moderate Side Effects\n",
       "12          44                No Side Effects\n",
       "13      129874          Moderate Side Effects\n",
       "14      359232                No Side Effects\n",
       "15       24425            Severe Side Effects\n",
       "16      240392              Mild Side Effects\n",
       "17      211128          Moderate Side Effects\n",
       "18      338751              Mild Side Effects\n",
       "19       91133                No Side Effects\n",
       "20      170137  Extremely Severe Side Effects\n",
       "21      260070                No Side Effects\n",
       "22       54372                No Side Effects\n",
       "23      342940          Moderate Side Effects\n",
       "24      109961            Severe Side Effects\n",
       "25      270195  Extremely Severe Side Effects\n",
       "26      305943          Moderate Side Effects\n",
       "27      210391            Severe Side Effects\n",
       "28      300037          Moderate Side Effects\n",
       "29      126654              Mild Side Effects\n",
       "30      248816          Moderate Side Effects\n",
       "31       21508          Moderate Side Effects\n",
       "32      394862          Moderate Side Effects\n",
       "33      335249          Moderate Side Effects\n",
       "34      232623            Severe Side Effects\n",
       "35      187609          Moderate Side Effects\n",
       "36      169224          Moderate Side Effects\n",
       "37      366817            Severe Side Effects\n",
       "38      366919          Moderate Side Effects\n",
       "39       42448              Mild Side Effects\n",
       "40      242228            Severe Side Effects\n",
       "41      340748  Extremely Severe Side Effects\n",
       "42      278662  Extremely Severe Side Effects\n",
       "43      159081          Moderate Side Effects\n",
       "44      337130            Severe Side Effects\n",
       "45      237009              Mild Side Effects\n",
       "46      181896              Mild Side Effects\n",
       "47       67720          Moderate Side Effects\n",
       "48         209  Extremely Severe Side Effects\n",
       "49      136158          Moderate Side Effects"
      ]
     },
     "execution_count": 425,
     "metadata": {},
     "output_type": "execute_result"
    }
   ],
   "source": [
    "sample1.head(50)"
   ]
  },
  {
   "cell_type": "code",
   "execution_count": null,
   "metadata": {},
   "outputs": [],
   "source": [
    "sample1 = [[0.2,0.1,0.1,0.1]]\n",
    "print(rfh.predict(sample1))"
   ]
  },
  {
   "cell_type": "code",
   "execution_count": null,
   "metadata": {},
   "outputs": [],
   "source": [
    "# Support Vecor (SVC) Classification Model"
   ]
  },
  {
   "cell_type": "code",
   "execution_count": 432,
   "metadata": {},
   "outputs": [],
   "source": [
    "from sklearn.svm import SVC\n",
    "svm_linear=SVC(kernel='linear')\n",
    "svm_linear.fit(x_train,y_train)\n",
    "y_predsvm=svm_linear.predict(x_test)"
   ]
  },
  {
   "cell_type": "code",
   "execution_count": 433,
   "metadata": {},
   "outputs": [
    {
     "name": "stdout",
     "output_type": "stream",
     "text": [
      "accuracy is: 0.7330428571428571\n"
     ]
    }
   ],
   "source": [
    "print('accuracy is:', accuracy_score(y_test,y_predsvm))"
   ]
  },
  {
   "cell_type": "code",
   "execution_count": 434,
   "metadata": {},
   "outputs": [
    {
     "data": {
      "text/plain": [
       "array(['Moderate Side Effects', 'Severe Side Effects',\n",
       "       'Moderate Side Effects', ..., 'Moderate Side Effects',\n",
       "       'Extremely Severe Side Effects', 'Severe Side Effects'],\n",
       "      dtype=object)"
      ]
     },
     "execution_count": 434,
     "metadata": {},
     "output_type": "execute_result"
    }
   ],
   "source": [
    "y_predsvm"
   ]
  },
  {
   "cell_type": "code",
   "execution_count": 436,
   "metadata": {},
   "outputs": [],
   "source": [
    "sample2 = pd.read_csv('side_effects1.csv')"
   ]
  },
  {
   "cell_type": "code",
   "execution_count": 437,
   "metadata": {},
   "outputs": [],
   "source": [
    "sample2['side_effects'] = y_predsvm"
   ]
  },
  {
   "cell_type": "code",
   "execution_count": 438,
   "metadata": {},
   "outputs": [
    {
     "data": {
      "text/plain": [
       "Index(['Unnamed: 0', 'patient_id', 'side_effects'], dtype='object')"
      ]
     },
     "execution_count": 438,
     "metadata": {},
     "output_type": "execute_result"
    }
   ],
   "source": [
    "sample2.columns"
   ]
  },
  {
   "cell_type": "code",
   "execution_count": 439,
   "metadata": {},
   "outputs": [],
   "source": [
    "sample2=sample2.drop(['Unnamed: 0'],axis=1)"
   ]
  },
  {
   "cell_type": "code",
   "execution_count": 440,
   "metadata": {},
   "outputs": [
    {
     "data": {
      "text/html": [
       "<div>\n",
       "<style scoped>\n",
       "    .dataframe tbody tr th:only-of-type {\n",
       "        vertical-align: middle;\n",
       "    }\n",
       "\n",
       "    .dataframe tbody tr th {\n",
       "        vertical-align: top;\n",
       "    }\n",
       "\n",
       "    .dataframe thead th {\n",
       "        text-align: right;\n",
       "    }\n",
       "</style>\n",
       "<table border=\"1\" class=\"dataframe\">\n",
       "  <thead>\n",
       "    <tr style=\"text-align: right;\">\n",
       "      <th></th>\n",
       "      <th>patient_id</th>\n",
       "      <th>side_effects</th>\n",
       "    </tr>\n",
       "  </thead>\n",
       "  <tbody>\n",
       "    <tr>\n",
       "      <th>0</th>\n",
       "      <td>207541</td>\n",
       "      <td>Moderate Side Effects</td>\n",
       "    </tr>\n",
       "    <tr>\n",
       "      <th>1</th>\n",
       "      <td>201747</td>\n",
       "      <td>Severe Side Effects</td>\n",
       "    </tr>\n",
       "    <tr>\n",
       "      <th>2</th>\n",
       "      <td>243154</td>\n",
       "      <td>Moderate Side Effects</td>\n",
       "    </tr>\n",
       "    <tr>\n",
       "      <th>3</th>\n",
       "      <td>123406</td>\n",
       "      <td>Severe Side Effects</td>\n",
       "    </tr>\n",
       "    <tr>\n",
       "      <th>4</th>\n",
       "      <td>8170</td>\n",
       "      <td>No Side Effects</td>\n",
       "    </tr>\n",
       "    <tr>\n",
       "      <th>5</th>\n",
       "      <td>74782</td>\n",
       "      <td>No Side Effects</td>\n",
       "    </tr>\n",
       "    <tr>\n",
       "      <th>6</th>\n",
       "      <td>237369</td>\n",
       "      <td>Severe Side Effects</td>\n",
       "    </tr>\n",
       "    <tr>\n",
       "      <th>7</th>\n",
       "      <td>76338</td>\n",
       "      <td>Moderate Side Effects</td>\n",
       "    </tr>\n",
       "    <tr>\n",
       "      <th>8</th>\n",
       "      <td>205675</td>\n",
       "      <td>Moderate Side Effects</td>\n",
       "    </tr>\n",
       "    <tr>\n",
       "      <th>9</th>\n",
       "      <td>206838</td>\n",
       "      <td>Moderate Side Effects</td>\n",
       "    </tr>\n",
       "    <tr>\n",
       "      <th>10</th>\n",
       "      <td>167426</td>\n",
       "      <td>Moderate Side Effects</td>\n",
       "    </tr>\n",
       "    <tr>\n",
       "      <th>11</th>\n",
       "      <td>187054</td>\n",
       "      <td>Moderate Side Effects</td>\n",
       "    </tr>\n",
       "    <tr>\n",
       "      <th>12</th>\n",
       "      <td>44</td>\n",
       "      <td>No Side Effects</td>\n",
       "    </tr>\n",
       "    <tr>\n",
       "      <th>13</th>\n",
       "      <td>129874</td>\n",
       "      <td>Moderate Side Effects</td>\n",
       "    </tr>\n",
       "    <tr>\n",
       "      <th>14</th>\n",
       "      <td>359232</td>\n",
       "      <td>No Side Effects</td>\n",
       "    </tr>\n",
       "    <tr>\n",
       "      <th>15</th>\n",
       "      <td>24425</td>\n",
       "      <td>Moderate Side Effects</td>\n",
       "    </tr>\n",
       "    <tr>\n",
       "      <th>16</th>\n",
       "      <td>240392</td>\n",
       "      <td>Moderate Side Effects</td>\n",
       "    </tr>\n",
       "    <tr>\n",
       "      <th>17</th>\n",
       "      <td>211128</td>\n",
       "      <td>Moderate Side Effects</td>\n",
       "    </tr>\n",
       "    <tr>\n",
       "      <th>18</th>\n",
       "      <td>338751</td>\n",
       "      <td>No Side Effects</td>\n",
       "    </tr>\n",
       "    <tr>\n",
       "      <th>19</th>\n",
       "      <td>91133</td>\n",
       "      <td>No Side Effects</td>\n",
       "    </tr>\n",
       "    <tr>\n",
       "      <th>20</th>\n",
       "      <td>170137</td>\n",
       "      <td>Moderate Side Effects</td>\n",
       "    </tr>\n",
       "    <tr>\n",
       "      <th>21</th>\n",
       "      <td>260070</td>\n",
       "      <td>Extremely Severe Side Effects</td>\n",
       "    </tr>\n",
       "    <tr>\n",
       "      <th>22</th>\n",
       "      <td>54372</td>\n",
       "      <td>Mild Side Effects</td>\n",
       "    </tr>\n",
       "    <tr>\n",
       "      <th>23</th>\n",
       "      <td>342940</td>\n",
       "      <td>Moderate Side Effects</td>\n",
       "    </tr>\n",
       "    <tr>\n",
       "      <th>24</th>\n",
       "      <td>109961</td>\n",
       "      <td>Severe Side Effects</td>\n",
       "    </tr>\n",
       "    <tr>\n",
       "      <th>25</th>\n",
       "      <td>270195</td>\n",
       "      <td>No Side Effects</td>\n",
       "    </tr>\n",
       "    <tr>\n",
       "      <th>26</th>\n",
       "      <td>305943</td>\n",
       "      <td>Severe Side Effects</td>\n",
       "    </tr>\n",
       "    <tr>\n",
       "      <th>27</th>\n",
       "      <td>210391</td>\n",
       "      <td>Severe Side Effects</td>\n",
       "    </tr>\n",
       "    <tr>\n",
       "      <th>28</th>\n",
       "      <td>300037</td>\n",
       "      <td>Moderate Side Effects</td>\n",
       "    </tr>\n",
       "    <tr>\n",
       "      <th>29</th>\n",
       "      <td>126654</td>\n",
       "      <td>Extremely Severe Side Effects</td>\n",
       "    </tr>\n",
       "    <tr>\n",
       "      <th>30</th>\n",
       "      <td>248816</td>\n",
       "      <td>Moderate Side Effects</td>\n",
       "    </tr>\n",
       "    <tr>\n",
       "      <th>31</th>\n",
       "      <td>21508</td>\n",
       "      <td>Moderate Side Effects</td>\n",
       "    </tr>\n",
       "    <tr>\n",
       "      <th>32</th>\n",
       "      <td>394862</td>\n",
       "      <td>Moderate Side Effects</td>\n",
       "    </tr>\n",
       "    <tr>\n",
       "      <th>33</th>\n",
       "      <td>335249</td>\n",
       "      <td>Moderate Side Effects</td>\n",
       "    </tr>\n",
       "    <tr>\n",
       "      <th>34</th>\n",
       "      <td>232623</td>\n",
       "      <td>Severe Side Effects</td>\n",
       "    </tr>\n",
       "    <tr>\n",
       "      <th>35</th>\n",
       "      <td>187609</td>\n",
       "      <td>Moderate Side Effects</td>\n",
       "    </tr>\n",
       "    <tr>\n",
       "      <th>36</th>\n",
       "      <td>169224</td>\n",
       "      <td>Moderate Side Effects</td>\n",
       "    </tr>\n",
       "    <tr>\n",
       "      <th>37</th>\n",
       "      <td>366817</td>\n",
       "      <td>Moderate Side Effects</td>\n",
       "    </tr>\n",
       "    <tr>\n",
       "      <th>38</th>\n",
       "      <td>366919</td>\n",
       "      <td>Moderate Side Effects</td>\n",
       "    </tr>\n",
       "    <tr>\n",
       "      <th>39</th>\n",
       "      <td>42448</td>\n",
       "      <td>Mild Side Effects</td>\n",
       "    </tr>\n",
       "    <tr>\n",
       "      <th>40</th>\n",
       "      <td>242228</td>\n",
       "      <td>Severe Side Effects</td>\n",
       "    </tr>\n",
       "    <tr>\n",
       "      <th>41</th>\n",
       "      <td>340748</td>\n",
       "      <td>Moderate Side Effects</td>\n",
       "    </tr>\n",
       "    <tr>\n",
       "      <th>42</th>\n",
       "      <td>278662</td>\n",
       "      <td>Severe Side Effects</td>\n",
       "    </tr>\n",
       "    <tr>\n",
       "      <th>43</th>\n",
       "      <td>159081</td>\n",
       "      <td>Extremely Severe Side Effects</td>\n",
       "    </tr>\n",
       "    <tr>\n",
       "      <th>44</th>\n",
       "      <td>337130</td>\n",
       "      <td>Severe Side Effects</td>\n",
       "    </tr>\n",
       "    <tr>\n",
       "      <th>45</th>\n",
       "      <td>237009</td>\n",
       "      <td>Moderate Side Effects</td>\n",
       "    </tr>\n",
       "    <tr>\n",
       "      <th>46</th>\n",
       "      <td>181896</td>\n",
       "      <td>Mild Side Effects</td>\n",
       "    </tr>\n",
       "    <tr>\n",
       "      <th>47</th>\n",
       "      <td>67720</td>\n",
       "      <td>Moderate Side Effects</td>\n",
       "    </tr>\n",
       "    <tr>\n",
       "      <th>48</th>\n",
       "      <td>209</td>\n",
       "      <td>No Side Effects</td>\n",
       "    </tr>\n",
       "    <tr>\n",
       "      <th>49</th>\n",
       "      <td>136158</td>\n",
       "      <td>Moderate Side Effects</td>\n",
       "    </tr>\n",
       "  </tbody>\n",
       "</table>\n",
       "</div>"
      ],
      "text/plain": [
       "    patient_id                   side_effects\n",
       "0       207541          Moderate Side Effects\n",
       "1       201747            Severe Side Effects\n",
       "2       243154          Moderate Side Effects\n",
       "3       123406            Severe Side Effects\n",
       "4         8170                No Side Effects\n",
       "5        74782                No Side Effects\n",
       "6       237369            Severe Side Effects\n",
       "7        76338          Moderate Side Effects\n",
       "8       205675          Moderate Side Effects\n",
       "9       206838          Moderate Side Effects\n",
       "10      167426          Moderate Side Effects\n",
       "11      187054          Moderate Side Effects\n",
       "12          44                No Side Effects\n",
       "13      129874          Moderate Side Effects\n",
       "14      359232                No Side Effects\n",
       "15       24425          Moderate Side Effects\n",
       "16      240392          Moderate Side Effects\n",
       "17      211128          Moderate Side Effects\n",
       "18      338751                No Side Effects\n",
       "19       91133                No Side Effects\n",
       "20      170137          Moderate Side Effects\n",
       "21      260070  Extremely Severe Side Effects\n",
       "22       54372              Mild Side Effects\n",
       "23      342940          Moderate Side Effects\n",
       "24      109961            Severe Side Effects\n",
       "25      270195                No Side Effects\n",
       "26      305943            Severe Side Effects\n",
       "27      210391            Severe Side Effects\n",
       "28      300037          Moderate Side Effects\n",
       "29      126654  Extremely Severe Side Effects\n",
       "30      248816          Moderate Side Effects\n",
       "31       21508          Moderate Side Effects\n",
       "32      394862          Moderate Side Effects\n",
       "33      335249          Moderate Side Effects\n",
       "34      232623            Severe Side Effects\n",
       "35      187609          Moderate Side Effects\n",
       "36      169224          Moderate Side Effects\n",
       "37      366817          Moderate Side Effects\n",
       "38      366919          Moderate Side Effects\n",
       "39       42448              Mild Side Effects\n",
       "40      242228            Severe Side Effects\n",
       "41      340748          Moderate Side Effects\n",
       "42      278662            Severe Side Effects\n",
       "43      159081  Extremely Severe Side Effects\n",
       "44      337130            Severe Side Effects\n",
       "45      237009          Moderate Side Effects\n",
       "46      181896              Mild Side Effects\n",
       "47       67720          Moderate Side Effects\n",
       "48         209                No Side Effects\n",
       "49      136158          Moderate Side Effects"
      ]
     },
     "execution_count": 440,
     "metadata": {},
     "output_type": "execute_result"
    }
   ],
   "source": [
    "sample2.head(50)"
   ]
  },
  {
   "cell_type": "code",
   "execution_count": 441,
   "metadata": {},
   "outputs": [
    {
     "name": "stdout",
     "output_type": "stream",
     "text": [
      "['No Side Effects']\n"
     ]
    }
   ],
   "source": [
    "sample2 = [[0.2,0.1,0.1,0.1]]\n",
    "print(svm_linear.predict(sample2))"
   ]
  },
  {
   "cell_type": "code",
   "execution_count": null,
   "metadata": {},
   "outputs": [],
   "source": []
  },
  {
   "cell_type": "code",
   "execution_count": null,
   "metadata": {},
   "outputs": [],
   "source": []
  },
  {
   "cell_type": "code",
   "execution_count": null,
   "metadata": {},
   "outputs": [],
   "source": []
  }
 ],
 "metadata": {
  "kernelspec": {
   "display_name": "Python 3",
   "language": "python",
   "name": "python3"
  },
  "language_info": {
   "codemirror_mode": {
    "name": "ipython",
    "version": 3
   },
   "file_extension": ".py",
   "mimetype": "text/x-python",
   "name": "python",
   "nbconvert_exporter": "python",
   "pygments_lexer": "ipython3",
   "version": "3.8.5"
  }
 },
 "nbformat": 4,
 "nbformat_minor": 4
}
